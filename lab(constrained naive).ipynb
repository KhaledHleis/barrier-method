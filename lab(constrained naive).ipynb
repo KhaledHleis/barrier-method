{
 "cells": [
  {
   "cell_type": "code",
   "execution_count": 409,
   "metadata": {},
   "outputs": [],
   "source": [
    "import numpy as np\n",
    "import scipy as sc\n",
    "import matplotlib.pyplot as plt"
   ]
  },
  {
   "cell_type": "code",
   "execution_count": 410,
   "metadata": {},
   "outputs": [
    {
     "name": "stdout",
     "output_type": "stream",
     "text": [
      "{'__header__': b'MATLAB 5.0 MAT-file, Platform: PCWIN64, Created on: Thu Jan 09 11:02:37 2014', '__version__': '1.0', '__globals__': [], 'Y': array([[-0.00136637,  0.        , -0.00610936, ...,  0.00763582,\n",
      "         0.00050221,  0.00593558],\n",
      "       [ 0.0094474 ,  0.        , -0.0023535 , ...,  0.00052138,\n",
      "         0.00104194, -0.00208496],\n",
      "       [-0.00661816,  0.00022131,  0.00375484, ...,  0.00437265,\n",
      "        -0.00546881,  0.00194789],\n",
      "       ...,\n",
      "       [ 0.00841139,  0.01395247,  0.0029267 , ..., -0.00417029,\n",
      "         0.00711376, -0.00693965],\n",
      "       [ 0.03047855,  0.02435916, -0.00761458, ..., -0.00362489,\n",
      "         0.02497141,  0.00222761],\n",
      "       [ 0.00238055,  0.02250305, -0.00699886, ..., -0.00087873,\n",
      "         0.        , -0.00220022]])}\n"
     ]
    }
   ],
   "source": [
    "HSI_Raw = sc.io.loadmat(\"Data\\sp100.mat\")\n",
    "print(HSI_Raw)"
   ]
  },
  {
   "cell_type": "markdown",
   "metadata": {},
   "source": [
    "plotting"
   ]
  },
  {
   "cell_type": "code",
   "execution_count": 411,
   "metadata": {},
   "outputs": [
    {
     "name": "stdout",
     "output_type": "stream",
     "text": [
      "(98, 753)\n"
     ]
    },
    {
     "data": {
      "text/plain": [
       "[<matplotlib.lines.Line2D at 0x1cb953a0510>,\n",
       " <matplotlib.lines.Line2D at 0x1cb9535e390>,\n",
       " <matplotlib.lines.Line2D at 0x1cb953a0b10>,\n",
       " <matplotlib.lines.Line2D at 0x1cb9535e550>,\n",
       " <matplotlib.lines.Line2D at 0x1cb9535fb10>,\n",
       " <matplotlib.lines.Line2D at 0x1cb953a14d0>,\n",
       " <matplotlib.lines.Line2D at 0x1cb953a1990>,\n",
       " <matplotlib.lines.Line2D at 0x1cb9535f650>,\n",
       " <matplotlib.lines.Line2D at 0x1cb953a2010>,\n",
       " <matplotlib.lines.Line2D at 0x1cb953a2510>,\n",
       " <matplotlib.lines.Line2D at 0x1cb953a2710>,\n",
       " <matplotlib.lines.Line2D at 0x1cb953855d0>,\n",
       " <matplotlib.lines.Line2D at 0x1cb953a2d90>,\n",
       " <matplotlib.lines.Line2D at 0x1cb953a3110>,\n",
       " <matplotlib.lines.Line2D at 0x1cb9535df50>,\n",
       " <matplotlib.lines.Line2D at 0x1cb953a36d0>,\n",
       " <matplotlib.lines.Line2D at 0x1cb95335d10>,\n",
       " <matplotlib.lines.Line2D at 0x1cb953a3ed0>,\n",
       " <matplotlib.lines.Line2D at 0x1cb9533a950>,\n",
       " <matplotlib.lines.Line2D at 0x1cb953a4510>,\n",
       " <matplotlib.lines.Line2D at 0x1cb9535ca10>,\n",
       " <matplotlib.lines.Line2D at 0x1cb953a4c90>,\n",
       " <matplotlib.lines.Line2D at 0x1cb953a5050>,\n",
       " <matplotlib.lines.Line2D at 0x1cb953a5410>,\n",
       " <matplotlib.lines.Line2D at 0x1cb953a5990>,\n",
       " <matplotlib.lines.Line2D at 0x1cb9521dcd0>,\n",
       " <matplotlib.lines.Line2D at 0x1cb953a5f50>,\n",
       " <matplotlib.lines.Line2D at 0x1cb953a6350>,\n",
       " <matplotlib.lines.Line2D at 0x1cb953a6750>,\n",
       " <matplotlib.lines.Line2D at 0x1cb95216bd0>,\n",
       " <matplotlib.lines.Line2D at 0x1cb9537ef50>,\n",
       " <matplotlib.lines.Line2D at 0x1cb953a71d0>,\n",
       " <matplotlib.lines.Line2D at 0x1cb9536f650>,\n",
       " <matplotlib.lines.Line2D at 0x1cb952312d0>,\n",
       " <matplotlib.lines.Line2D at 0x1cb95351690>,\n",
       " <matplotlib.lines.Line2D at 0x1cb9535ea50>,\n",
       " <matplotlib.lines.Line2D at 0x1cb9535f010>,\n",
       " <matplotlib.lines.Line2D at 0x1cb953a87d0>,\n",
       " <matplotlib.lines.Line2D at 0x1cb953a8b90>,\n",
       " <matplotlib.lines.Line2D at 0x1cb953a8f50>,\n",
       " <matplotlib.lines.Line2D at 0x1cb953a9350>,\n",
       " <matplotlib.lines.Line2D at 0x1cb953a9750>,\n",
       " <matplotlib.lines.Line2D at 0x1cb9535f750>,\n",
       " <matplotlib.lines.Line2D at 0x1cb953a9ed0>,\n",
       " <matplotlib.lines.Line2D at 0x1cb94fe48d0>,\n",
       " <matplotlib.lines.Line2D at 0x1cb953aa690>,\n",
       " <matplotlib.lines.Line2D at 0x1cb953aaa50>,\n",
       " <matplotlib.lines.Line2D at 0x1cb953aae50>,\n",
       " <matplotlib.lines.Line2D at 0x1cb953ab1d0>,\n",
       " <matplotlib.lines.Line2D at 0x1cb953ab5d0>,\n",
       " <matplotlib.lines.Line2D at 0x1cb953ab8d0>,\n",
       " <matplotlib.lines.Line2D at 0x1cb953abed0>,\n",
       " <matplotlib.lines.Line2D at 0x1cb951faa50>,\n",
       " <matplotlib.lines.Line2D at 0x1cb9531c4d0>,\n",
       " <matplotlib.lines.Line2D at 0x1cb953b4790>,\n",
       " <matplotlib.lines.Line2D at 0x1cb9537cc90>,\n",
       " <matplotlib.lines.Line2D at 0x1cb9533a4d0>,\n",
       " <matplotlib.lines.Line2D at 0x1cb953b5290>,\n",
       " <matplotlib.lines.Line2D at 0x1cb953b5690>,\n",
       " <matplotlib.lines.Line2D at 0x1cb9537db10>,\n",
       " <matplotlib.lines.Line2D at 0x1cb953b5d90>,\n",
       " <matplotlib.lines.Line2D at 0x1cb9536e290>,\n",
       " <matplotlib.lines.Line2D at 0x1cb953b6510>,\n",
       " <matplotlib.lines.Line2D at 0x1cb953b6890>,\n",
       " <matplotlib.lines.Line2D at 0x1cb953b6c50>,\n",
       " <matplotlib.lines.Line2D at 0x1cb953b7050>,\n",
       " <matplotlib.lines.Line2D at 0x1cb953b7150>,\n",
       " <matplotlib.lines.Line2D at 0x1cb953b7950>,\n",
       " <matplotlib.lines.Line2D at 0x1cb953b7b90>,\n",
       " <matplotlib.lines.Line2D at 0x1cb953b8110>,\n",
       " <matplotlib.lines.Line2D at 0x1cb953b83d0>,\n",
       " <matplotlib.lines.Line2D at 0x1cb953a88d0>,\n",
       " <matplotlib.lines.Line2D at 0x1cb953b8b50>,\n",
       " <matplotlib.lines.Line2D at 0x1cb953b8f10>,\n",
       " <matplotlib.lines.Line2D at 0x1cb953b9290>,\n",
       " <matplotlib.lines.Line2D at 0x1cb953b97d0>,\n",
       " <matplotlib.lines.Line2D at 0x1cb953b9a10>,\n",
       " <matplotlib.lines.Line2D at 0x1cb953b9e10>,\n",
       " <matplotlib.lines.Line2D at 0x1cb953ba210>,\n",
       " <matplotlib.lines.Line2D at 0x1cb9522a6d0>,\n",
       " <matplotlib.lines.Line2D at 0x1cb953ba990>,\n",
       " <matplotlib.lines.Line2D at 0x1cb953bad10>,\n",
       " <matplotlib.lines.Line2D at 0x1cb953bb110>,\n",
       " <matplotlib.lines.Line2D at 0x1cb9535df10>,\n",
       " <matplotlib.lines.Line2D at 0x1cb94fdd2d0>,\n",
       " <matplotlib.lines.Line2D at 0x1cb953bbc90>,\n",
       " <matplotlib.lines.Line2D at 0x1cb953bc1d0>,\n",
       " <matplotlib.lines.Line2D at 0x1cb9524c550>,\n",
       " <matplotlib.lines.Line2D at 0x1cb953bc7d0>,\n",
       " <matplotlib.lines.Line2D at 0x1cb9533a7d0>,\n",
       " <matplotlib.lines.Line2D at 0x1cb95385090>,\n",
       " <matplotlib.lines.Line2D at 0x1cb95353910>,\n",
       " <matplotlib.lines.Line2D at 0x1cb953bd690>,\n",
       " <matplotlib.lines.Line2D at 0x1cb953b5b10>,\n",
       " <matplotlib.lines.Line2D at 0x1cb953bde90>,\n",
       " <matplotlib.lines.Line2D at 0x1cb953bde50>,\n",
       " <matplotlib.lines.Line2D at 0x1cb953be5d0>,\n",
       " <matplotlib.lines.Line2D at 0x1cb953be950>]"
      ]
     },
     "execution_count": 411,
     "metadata": {},
     "output_type": "execute_result"
    },
    {
     "data": {
      "image/png": "[encoded data removed]",
      "text/plain": [
       "<Figure size 640x480 with 1 Axes>"
      ]
     },
     "metadata": {},
     "output_type": "display_data"
    }
   ],
   "source": [
    "HSI = HSI_Raw['Y']\n",
    "print(HSI.shape)\n",
    "#read the last 30 days(from day -60 to day -30)\n",
    "nb_days = HSI.shape[1]\n",
    "nb_instances = HSI.shape[0]\n",
    "HSI = np.exp(HSI)\n",
    "\n",
    "HSI_train = HSI[: , 0:nb_days-30]\n",
    "HSI_test = HSI[: , nb_days-30:nb_days]\n",
    "\n",
    "plt.plot(HSI_test.T)"
   ]
  },
  {
   "cell_type": "markdown",
   "metadata": {},
   "source": [
    "<b>GD"
   ]
  },
  {
   "cell_type": "markdown",
   "metadata": {},
   "source": [
    "simplex projection"
   ]
  },
  {
   "cell_type": "code",
   "execution_count": 412,
   "metadata": {},
   "outputs": [],
   "source": [
    "import numpy as np\n",
    "import matplotlib.pyplot as plt\n",
    "\n",
    "# Sorting function\n",
    "def sorting_y(y):\n",
    "    return np.sort(y)\n",
    "\n",
    "# Calculate ti\n",
    "def calculate_ti(y, i):\n",
    "    n = len(y)\n",
    "    sum_val = 0\n",
    "    for j in range(i, n):\n",
    "        sum_val += y[j]\n",
    "    sum_val -= 1\n",
    "    return (sum_val / (n - i))\n",
    "\n",
    "# Calculate te (step 4)\n",
    "def calculate_te_step4(y):\n",
    "    return calculate_ti(y, 0)\n",
    "\n",
    "# Step 3 logic: return te\n",
    "def Step3(y, i):\n",
    "    while i >= 0:\n",
    "        ti = calculate_ti(y, i)\n",
    "        if ti >= y[i]:\n",
    "            return ti\n",
    "        i -= 1\n",
    "    # If we reach i = -1, calculate te using step 4\n",
    "    return calculate_te_step4(y)\n",
    "\n",
    "# Step 5 logic: apply the final te to get the projected values\n",
    "def step5(y, te):\n",
    "    return [max(yi - te, 0) for yi in y]  # Ensure non-negativity by using max\n",
    "\n",
    "# The main algorithm function\n",
    "def simplex_projection(y):\n",
    "    y_OG = y.copy()  # Copy the original y to apply te later\n",
    "    ysorted = sorting_y(y.copy())\n",
    "    n = len(y)\n",
    "    i = n - 1\n",
    "    \n",
    "    # Compute te\n",
    "    te = Step3(ysorted, i)\n",
    "    \n",
    "    # Return the projection\n",
    "    result = step5(y_OG, te)\n",
    "    \n",
    "    # Normalize to ensure sum(result) = 1\n",
    "    total = np.sum(result)\n",
    "    return np.array(result) / total if total != 0 else result"
   ]
  },
  {
   "cell_type": "code",
   "execution_count": 413,
   "metadata": {},
   "outputs": [],
   "source": [
    "def calculate_variance(w):\n",
    "    XWcn = HSI_test.T @ w\n",
    "    mean = np.mean(XWcn)\n",
    "    print(mean)\n",
    "    var = np.sum(np.square(XWcn - mean))/31\n",
    "    return var"
   ]
  },
  {
   "cell_type": "code",
   "execution_count": 414,
   "metadata": {},
   "outputs": [],
   "source": [
    "def gradient_descent_with_simplex_projection(C, w_init, learning_rate=0.01, num_iters=100):\n",
    "    w = w_init\n",
    "    e = []\n",
    "    variances=[]\n",
    "    for k in range(num_iters):\n",
    "        # Compute the gradient of the objective function w^T C w\n",
    "        grad = 2 * np.dot(C, w)\n",
    "        wprev = w\n",
    "        # Gradient update\n",
    "        w = w - learning_rate * grad\n",
    "        \n",
    "        # Project back onto the simplex\n",
    "        w = simplex_projection(w)\n",
    "\n",
    "        eapp = np.linalg.norm(w - wprev)\n",
    "        e.append(eapp)\n",
    "        variances.append(calculate_variance(w))\n",
    "        if(eapp < 1e-06):\n",
    "            break\n",
    "        \n",
    "    return w,k,e,variances"
   ]
  },
  {
   "cell_type": "markdown",
   "metadata": {},
   "source": [
    "minimizing wcw"
   ]
  },
  {
   "cell_type": "code",
   "execution_count": 415,
   "metadata": {},
   "outputs": [
    {
     "name": "stdout",
     "output_type": "stream",
     "text": [
      "1.0008419629756546\n",
      "1.0008419404303721\n",
      "1.0008419178859613\n",
      "1.0008418953424227\n",
      "1.0008418727997561\n",
      "1.000841850257962\n",
      "1.0008418277170388\n",
      "1.0008418051769878\n",
      "1.000841782637809\n",
      "1.0008417600995019\n",
      "1.0008417375620666\n",
      "1.0008417150255027\n",
      "1.000841692489811\n",
      "1.000841669954991\n",
      "1.0008416474210418\n",
      "1.0008416248879652\n",
      "1.0008416023557594\n",
      "1.0008415798244255\n",
      "1.0008415572939628\n",
      "1.0008415347643718\n",
      "1.000841512235652\n",
      "1.0008414897078037\n",
      "1.0008414671808268\n",
      "1.0008414446547211\n",
      "1.0008414221294866\n",
      "1.0008413996051237\n",
      "1.0008413770816313\n",
      "1.0008413545590102\n",
      "1.0008413320372602\n",
      "1.0008413095163815\n",
      "1.0008412869963736\n",
      "1.0008412644772373\n",
      "1.0008412419589712\n",
      "1.0008412194415761\n",
      "1.0008411969250521\n",
      "1.0008411744093988\n",
      "1.0008411518946163\n",
      "1.0008411293807047\n",
      "1.0008411068676637\n",
      "1.0008410843554933\n",
      "1.0008410618441939\n",
      "1.0008410393337648\n",
      "1.0008410168242063\n",
      "1.0008409943155183\n",
      "1.0008409718077007\n",
      "1.000840949300754\n",
      "1.0008409267946772\n",
      "1.0008409042894713\n",
      "1.000840881785135\n",
      "1.0008408592816693\n",
      "1.0008408367790742\n",
      "1.0008408142773493\n",
      "1.000840791776494\n",
      "1.0008407692765098\n",
      "1.0008407467773948\n",
      "1.0008407242791504\n",
      "1.0008407017817762\n",
      "1.0008406792852713\n",
      "1.0008406567896369\n",
      "1.000840634294872\n",
      "1.0008406118009774\n",
      "1.0008405893079524\n",
      "1.0008405668157976\n",
      "1.000840544324512\n",
      "1.0008405218340968\n",
      "1.0008404993445503\n",
      "1.0008404768558743\n",
      "1.0008404543680678\n",
      "1.0008404318811308\n",
      "1.0008404093950634\n",
      "1.0008403869098654\n",
      "1.0008403644255368\n",
      "1.000840341942078\n",
      "1.0008403194594884\n",
      "1.0008402969777677\n",
      "1.000840274496917\n",
      "1.0008402520169353\n",
      "1.0008402295378225\n",
      "1.0008402070595794\n",
      "1.0008401845822055\n",
      "1.0008401621057006\n",
      "1.0008401396300648\n",
      "1.000840117155298\n",
      "1.0008400946814002\n",
      "1.0008400722083715\n",
      "1.0008400497362115\n",
      "1.0008400272649205\n",
      "1.0008400047944987\n",
      "1.0008399823249454\n",
      "1.000839959856261\n",
      "1.0008399373884453\n",
      "1.0008399149214984\n",
      "1.00083989245542\n",
      "1.0008398699902104\n",
      "1.0008398475258693\n",
      "1.0008398250623967\n",
      "1.0008398025997927\n",
      "1.0008397801380575\n",
      "1.0008397576771904\n",
      "1.000839735217192\n",
      "[0.01020675 0.01029934 0.01019044 0.01020081 0.01031707 0.01020382\n",
      " 0.01030796 0.0101815  0.01006853 0.01027327 0.01008791 0.01012531\n",
      " 0.01025913 0.01029755 0.01000137 0.01024592 0.01020154 0.01019235\n",
      " 0.01028945 0.01013437 0.01012646 0.01020988 0.01020309 0.00999406\n",
      " 0.01029571 0.0103033  0.01021263 0.01021962 0.01028536 0.01026321\n",
      " 0.0101492  0.01008083 0.01017585 0.01015039 0.01019087 0.01015722\n",
      " 0.01031953 0.01023111 0.0101724  0.01012913 0.01007033 0.01020945\n",
      " 0.01018387 0.01011655 0.01023715 0.01011572 0.01024158 0.0100765\n",
      " 0.0101741  0.01024198 0.01015331 0.01023321 0.01026543 0.01030559\n",
      " 0.01010064 0.01029143 0.01028028 0.01023221 0.01016819 0.01032313\n",
      " 0.01022499 0.01027754 0.01004915 0.01023874 0.01030314 0.01018709\n",
      " 0.00996407 0.01008576 0.01024032 0.01019356 0.01012047 0.01016961\n",
      " 0.0103292  0.01026412 0.01028972 0.01032398 0.01019318 0.01024829\n",
      " 0.01011122 0.01021364 0.01035398 0.01021121 0.01030137 0.01018975\n",
      " 0.01010631 0.01020046 0.01013646 0.01018891 0.01025613 0.01019037\n",
      " 0.01023366 0.01017141 0.01030439 0.01021636 0.01033199 0.01028604\n",
      " 0.01018986 0.01012868]\n",
      "Number of iterations: 99\n",
      "(98,)\n",
      "(98, 30)\n",
      "(98,)\n"
     ]
    },
    {
     "data": {
      "application/vnd.plotly.v1+json": {
       "config": {
        "plotlyServerURL": "https://plot.ly"
       },
       "data": [
        {
         "mode": "lines",
         "name": "XWcn",
         "type": "scatter",
         "y": [
          0.9970015444204127,
          0.9985724421580293,
          0.9953146891547906,
          1.0074503221779658,
          1.003980984757091,
          0.9974851212676419,
          0.9997514952103564,
          1.0027261667532286,
          0.9991629304810044,
          0.9969510314012816,
          0.9956596666175003,
          0.9986166779637428,
          0.9959952375494077,
          1.011211254101338,
          1.000603918979026,
          0.9959116432097928,
          0.9901551725626276,
          0.9958304758783455,
          1.0000830851499103,
          1.006280605640044,
          0.9966503096484189,
          1.017385491714786,
          1.0002988638561314,
          1.0052031131684953,
          1.0038808856585837,
          1.0030888964739506,
          1.0054633356578853,
          1.0005006967207144,
          1.000203932648841,
          1.0037720655344131
         ]
        }
       ],
       "layout": {
        "showlegend": true,
        "template": {
         "data": {
          "bar": [
           {
            "error_x": {
             "color": "#2a3f5f"
            },
            "error_y": {
             "color": "#2a3f5f"
            },
            "marker": {
             "line": {
              "color": "#E5ECF6",
              "width": 0.5
             },
             "pattern": {
              "fillmode": "overlay",
              "size": 10,
              "solidity": 0.2
             }
            },
            "type": "bar"
           }
          ],
          "barpolar": [
           {
            "marker": {
             "line": {
              "color": "#E5ECF6",
              "width": 0.5
             },
             "pattern": {
              "fillmode": "overlay",
              "size": 10,
              "solidity": 0.2
             }
            },
            "type": "barpolar"
           }
          ],
          "carpet": [
           {
            "aaxis": {
             "endlinecolor": "#2a3f5f",
             "gridcolor": "white",
             "linecolor": "white",
             "minorgridcolor": "white",
             "startlinecolor": "#2a3f5f"
            },
            "baxis": {
             "endlinecolor": "#2a3f5f",
             "gridcolor": "white",
             "linecolor": "white",
             "minorgridcolor": "white",
             "startlinecolor": "#2a3f5f"
            },
            "type": "carpet"
           }
          ],
          "choropleth": [
           {
            "colorbar": {
             "outlinewidth": 0,
             "ticks": ""
            },
            "type": "choropleth"
           }
          ],
          "contour": [
           {
            "colorbar": {
             "outlinewidth": 0,
             "ticks": ""
            },
            "colorscale": [
             [
              0,
              "#0d0887"
             ],
             [
              0.1111111111111111,
              "#46039f"
             ],
             [
              0.2222222222222222,
              "#7201a8"
             ],
             [
              0.3333333333333333,
              "#9c179e"
             ],
             [
              0.4444444444444444,
              "#bd3786"
             ],
             [
              0.5555555555555556,
              "#d8576b"
             ],
             [
              0.6666666666666666,
              "#ed7953"
             ],
             [
              0.7777777777777778,
              "#fb9f3a"
             ],
             [
              0.8888888888888888,
              "#fdca26"
             ],
             [
              1,
              "#f0f921"
             ]
            ],
            "type": "contour"
           }
          ],
          "contourcarpet": [
           {
            "colorbar": {
             "outlinewidth": 0,
             "ticks": ""
            },
            "type": "contourcarpet"
           }
          ],
          "heatmap": [
           {
            "colorbar": {
             "outlinewidth": 0,
             "ticks": ""
            },
            "colorscale": [
             [
              0,
              "#0d0887"
             ],
             [
              0.1111111111111111,
              "#46039f"
             ],
             [
              0.2222222222222222,
              "#7201a8"
             ],
             [
              0.3333333333333333,
              "#9c179e"
             ],
             [
              0.4444444444444444,
              "#bd3786"
             ],
             [
              0.5555555555555556,
              "#d8576b"
             ],
             [
              0.6666666666666666,
              "#ed7953"
             ],
             [
              0.7777777777777778,
              "#fb9f3a"
             ],
             [
              0.8888888888888888,
              "#fdca26"
             ],
             [
              1,
              "#f0f921"
             ]
            ],
            "type": "heatmap"
           }
          ],
          "heatmapgl": [
           {
            "colorbar": {
             "outlinewidth": 0,
             "ticks": ""
            },
            "colorscale": [
             [
              0,
              "#0d0887"
             ],
             [
              0.1111111111111111,
              "#46039f"
             ],
             [
              0.2222222222222222,
              "#7201a8"
             ],
             [
              0.3333333333333333,
              "#9c179e"
             ],
             [
              0.4444444444444444,
              "#bd3786"
             ],
             [
              0.5555555555555556,
              "#d8576b"
             ],
             [
              0.6666666666666666,
              "#ed7953"
             ],
             [
              0.7777777777777778,
              "#fb9f3a"
             ],
             [
              0.8888888888888888,
              "#fdca26"
             ],
             [
              1,
              "#f0f921"
             ]
            ],
            "type": "heatmapgl"
           }
          ],
          "histogram": [
           {
            "marker": {
             "pattern": {
              "fillmode": "overlay",
              "size": 10,
              "solidity": 0.2
             }
            },
            "type": "histogram"
           }
          ],
          "histogram2d": [
           {
            "colorbar": {
             "outlinewidth": 0,
             "ticks": ""
            },
            "colorscale": [
             [
              0,
              "#0d0887"
             ],
             [
              0.1111111111111111,
              "#46039f"
             ],
             [
              0.2222222222222222,
              "#7201a8"
             ],
             [
              0.3333333333333333,
              "#9c179e"
             ],
             [
              0.4444444444444444,
              "#bd3786"
             ],
             [
              0.5555555555555556,
              "#d8576b"
             ],
             [
              0.6666666666666666,
              "#ed7953"
             ],
             [
              0.7777777777777778,
              "#fb9f3a"
             ],
             [
              0.8888888888888888,
              "#fdca26"
             ],
             [
              1,
              "#f0f921"
             ]
            ],
            "type": "histogram2d"
           }
          ],
          "histogram2dcontour": [
           {
            "colorbar": {
             "outlinewidth": 0,
             "ticks": ""
            },
            "colorscale": [
             [
              0,
              "#0d0887"
             ],
             [
              0.1111111111111111,
              "#46039f"
             ],
             [
              0.2222222222222222,
              "#7201a8"
             ],
             [
              0.3333333333333333,
              "#9c179e"
             ],
             [
              0.4444444444444444,
              "#bd3786"
             ],
             [
              0.5555555555555556,
              "#d8576b"
             ],
             [
              0.6666666666666666,
              "#ed7953"
             ],
             [
              0.7777777777777778,
              "#fb9f3a"
             ],
             [
              0.8888888888888888,
              "#fdca26"
             ],
             [
              1,
              "#f0f921"
             ]
            ],
            "type": "histogram2dcontour"
           }
          ],
          "mesh3d": [
           {
            "colorbar": {
             "outlinewidth": 0,
             "ticks": ""
            },
            "type": "mesh3d"
           }
          ],
          "parcoords": [
           {
            "line": {
             "colorbar": {
              "outlinewidth": 0,
              "ticks": ""
             }
            },
            "type": "parcoords"
           }
          ],
          "pie": [
           {
            "automargin": true,
            "type": "pie"
           }
          ],
          "scatter": [
           {
            "fillpattern": {
             "fillmode": "overlay",
             "size": 10,
             "solidity": 0.2
            },
            "type": "scatter"
           }
          ],
          "scatter3d": [
           {
            "line": {
             "colorbar": {
              "outlinewidth": 0,
              "ticks": ""
             }
            },
            "marker": {
             "colorbar": {
              "outlinewidth": 0,
              "ticks": ""
             }
            },
            "type": "scatter3d"
           }
          ],
          "scattercarpet": [
           {
            "marker": {
             "colorbar": {
              "outlinewidth": 0,
              "ticks": ""
             }
            },
            "type": "scattercarpet"
           }
          ],
          "scattergeo": [
           {
            "marker": {
             "colorbar": {
              "outlinewidth": 0,
              "ticks": ""
             }
            },
            "type": "scattergeo"
           }
          ],
          "scattergl": [
           {
            "marker": {
             "colorbar": {
              "outlinewidth": 0,
              "ticks": ""
             }
            },
            "type": "scattergl"
           }
          ],
          "scattermapbox": [
           {
            "marker": {
             "colorbar": {
              "outlinewidth": 0,
              "ticks": ""
             }
            },
            "type": "scattermapbox"
           }
          ],
          "scatterpolar": [
           {
            "marker": {
             "colorbar": {
              "outlinewidth": 0,
              "ticks": ""
             }
            },
            "type": "scatterpolar"
           }
          ],
          "scatterpolargl": [
           {
            "marker": {
             "colorbar": {
              "outlinewidth": 0,
              "ticks": ""
             }
            },
            "type": "scatterpolargl"
           }
          ],
          "scatterternary": [
           {
            "marker": {
             "colorbar": {
              "outlinewidth": 0,
              "ticks": ""
             }
            },
            "type": "scatterternary"
           }
          ],
          "surface": [
           {
            "colorbar": {
             "outlinewidth": 0,
             "ticks": ""
            },
            "colorscale": [
             [
              0,
              "#0d0887"
             ],
             [
              0.1111111111111111,
              "#46039f"
             ],
             [
              0.2222222222222222,
              "#7201a8"
             ],
             [
              0.3333333333333333,
              "#9c179e"
             ],
             [
              0.4444444444444444,
              "#bd3786"
             ],
             [
              0.5555555555555556,
              "#d8576b"
             ],
             [
              0.6666666666666666,
              "#ed7953"
             ],
             [
              0.7777777777777778,
              "#fb9f3a"
             ],
             [
              0.8888888888888888,
              "#fdca26"
             ],
             [
              1,
              "#f0f921"
             ]
            ],
            "type": "surface"
           }
          ],
          "table": [
           {
            "cells": {
             "fill": {
              "color": "#EBF0F8"
             },
             "line": {
              "color": "white"
             }
            },
            "header": {
             "fill": {
              "color": "#C8D4E3"
             },
             "line": {
              "color": "white"
             }
            },
            "type": "table"
           }
          ]
         },
         "layout": {
          "annotationdefaults": {
           "arrowcolor": "#2a3f5f",
           "arrowhead": 0,
           "arrowwidth": 1
          },
          "autotypenumbers": "strict",
          "coloraxis": {
           "colorbar": {
            "outlinewidth": 0,
            "ticks": ""
           }
          },
          "colorscale": {
           "diverging": [
            [
             0,
             "#8e0152"
            ],
            [
             0.1,
             "#c51b7d"
            ],
            [
             0.2,
             "#de77ae"
            ],
            [
             0.3,
             "#f1b6da"
            ],
            [
             0.4,
             "#fde0ef"
            ],
            [
             0.5,
             "#f7f7f7"
            ],
            [
             0.6,
             "#e6f5d0"
            ],
            [
             0.7,
             "#b8e186"
            ],
            [
             0.8,
             "#7fbc41"
            ],
            [
             0.9,
             "#4d9221"
            ],
            [
             1,
             "#276419"
            ]
           ],
           "sequential": [
            [
             0,
             "#0d0887"
            ],
            [
             0.1111111111111111,
             "#46039f"
            ],
            [
             0.2222222222222222,
             "#7201a8"
            ],
            [
             0.3333333333333333,
             "#9c179e"
            ],
            [
             0.4444444444444444,
             "#bd3786"
            ],
            [
             0.5555555555555556,
             "#d8576b"
            ],
            [
             0.6666666666666666,
             "#ed7953"
            ],
            [
             0.7777777777777778,
             "#fb9f3a"
            ],
            [
             0.8888888888888888,
             "#fdca26"
            ],
            [
             1,
             "#f0f921"
            ]
           ],
           "sequentialminus": [
            [
             0,
             "#0d0887"
            ],
            [
             0.1111111111111111,
             "#46039f"
            ],
            [
             0.2222222222222222,
             "#7201a8"
            ],
            [
             0.3333333333333333,
             "#9c179e"
            ],
            [
             0.4444444444444444,
             "#bd3786"
            ],
            [
             0.5555555555555556,
             "#d8576b"
            ],
            [
             0.6666666666666666,
             "#ed7953"
            ],
            [
             0.7777777777777778,
             "#fb9f3a"
            ],
            [
             0.8888888888888888,
             "#fdca26"
            ],
            [
             1,
             "#f0f921"
            ]
           ]
          },
          "colorway": [
           "#636efa",
           "#EF553B",
           "#00cc96",
           "#ab63fa",
           "#FFA15A",
           "#19d3f3",
           "#FF6692",
           "#B6E880",
           "#FF97FF",
           "#FECB52"
          ],
          "font": {
           "color": "#2a3f5f"
          },
          "geo": {
           "bgcolor": "white",
           "lakecolor": "white",
           "landcolor": "#E5ECF6",
           "showlakes": true,
           "showland": true,
           "subunitcolor": "white"
          },
          "hoverlabel": {
           "align": "left"
          },
          "hovermode": "closest",
          "mapbox": {
           "style": "light"
          },
          "paper_bgcolor": "white",
          "plot_bgcolor": "#E5ECF6",
          "polar": {
           "angularaxis": {
            "gridcolor": "white",
            "linecolor": "white",
            "ticks": ""
           },
           "bgcolor": "#E5ECF6",
           "radialaxis": {
            "gridcolor": "white",
            "linecolor": "white",
            "ticks": ""
           }
          },
          "scene": {
           "xaxis": {
            "backgroundcolor": "#E5ECF6",
            "gridcolor": "white",
            "gridwidth": 2,
            "linecolor": "white",
            "showbackground": true,
            "ticks": "",
            "zerolinecolor": "white"
           },
           "yaxis": {
            "backgroundcolor": "#E5ECF6",
            "gridcolor": "white",
            "gridwidth": 2,
            "linecolor": "white",
            "showbackground": true,
            "ticks": "",
            "zerolinecolor": "white"
           },
           "zaxis": {
            "backgroundcolor": "#E5ECF6",
            "gridcolor": "white",
            "gridwidth": 2,
            "linecolor": "white",
            "showbackground": true,
            "ticks": "",
            "zerolinecolor": "white"
           }
          },
          "shapedefaults": {
           "line": {
            "color": "#2a3f5f"
           }
          },
          "ternary": {
           "aaxis": {
            "gridcolor": "white",
            "linecolor": "white",
            "ticks": ""
           },
           "baxis": {
            "gridcolor": "white",
            "linecolor": "white",
            "ticks": ""
           },
           "bgcolor": "#E5ECF6",
           "caxis": {
            "gridcolor": "white",
            "linecolor": "white",
            "ticks": ""
           }
          },
          "title": {
           "x": 0.05
          },
          "xaxis": {
           "automargin": true,
           "gridcolor": "white",
           "linecolor": "white",
           "ticks": "",
           "title": {
            "standoff": 15
           },
           "zerolinecolor": "white",
           "zerolinewidth": 2
          },
          "yaxis": {
           "automargin": true,
           "gridcolor": "white",
           "linecolor": "white",
           "ticks": "",
           "title": {
            "standoff": 15
           },
           "zerolinecolor": "white",
           "zerolinewidth": 2
          }
         }
        },
        "title": {
         "text": "Plot of XWcn"
        },
        "xaxis": {
         "title": {
          "text": "Index"
         }
        },
        "yaxis": {
         "title": {
          "text": "XWcn Value"
         }
        }
       }
      }
     },
     "metadata": {},
     "output_type": "display_data"
    },
    {
     "data": {
      "application/vnd.plotly.v1+json": {
       "config": {
        "plotlyServerURL": "https://plot.ly"
       },
       "data": [
        {
         "mode": "lines+markers",
         "name": "Error",
         "type": "scatter",
         "x": [
          0,
          1,
          2,
          3,
          4,
          5,
          6,
          7,
          8,
          9,
          10,
          11,
          12,
          13,
          14,
          15,
          16,
          17,
          18,
          19,
          20,
          21,
          22,
          23,
          24,
          25,
          26,
          27,
          28,
          29,
          30,
          31,
          32,
          33,
          34,
          35,
          36,
          37,
          38,
          39,
          40,
          41,
          42,
          43,
          44,
          45,
          46,
          47,
          48,
          49,
          50,
          51,
          52,
          53,
          54,
          55,
          56,
          57,
          58,
          59,
          60,
          61,
          62,
          63,
          64,
          65,
          66,
          67,
          68,
          69,
          70,
          71,
          72,
          73,
          74,
          75,
          76,
          77,
          78,
          79,
          80,
          81,
          82,
          83,
          84,
          85,
          86,
          87,
          88,
          89,
          90,
          91,
          92,
          93,
          94,
          95,
          96,
          97,
          98,
          99
         ],
         "y": [
          0.10101525445522108,
          0.000008125610421222982,
          0.00000812525423666295,
          0.000008124898068407093,
          0.000008124541916455073,
          0.000008124185780808405,
          0.000008123829661461584,
          0.000008123473558417921,
          0.000008123117471676356,
          0.00000812276140123437,
          0.000008122405347092606,
          0.000008122049309248233,
          0.000008121693287704481,
          0.000008121337282457008,
          0.00000812098129350716,
          0.000008120625320853236,
          0.000008120269364494563,
          0.00000811991342442993,
          0.00000811955750066087,
          0.000008119201593183156,
          0.000008118845701999503,
          0.00000811848982710645,
          0.000008118133968505164,
          0.000008117778126193759,
          0.000008117422300172855,
          0.000008117066490440217,
          0.000008116710696995779,
          0.000008116354919837877,
          0.000008115999158968257,
          0.000008115643414383708,
          0.000008115287686085575,
          0.000008114931974071297,
          0.000008114576278339407,
          0.000008114220598892593,
          0.000008113864935726606,
          0.000008113509288843887,
          0.00000811315365824111,
          0.000008112798043918939,
          0.00000811244244587577,
          0.00000811208686411083,
          0.000008111731298624217,
          0.000008111375749415468,
          0.000008111020216483255,
          0.000008110664699827066,
          0.00000811030919944532,
          0.00000810995371533808,
          0.000008109598247505366,
          0.000008109242795944404,
          0.00000810888736065609,
          0.00000810853194163987,
          0.000008108176538894066,
          0.000008107821152417412,
          0.00000810746578221126,
          0.00000810711042827381,
          0.000008106755090603437,
          0.00000810639976920058,
          0.000008106044464063697,
          0.000008105689175192598,
          0.000008105333902588487,
          0.000008104978646246597,
          0.000008104623406167944,
          0.000008104268182353843,
          0.000008103912974799075,
          0.000008103557783507354,
          0.000008103202608476598,
          0.0000081028474497063,
          0.000008102492307194805,
          0.000008102137180940262,
          0.000008101782070944901,
          0.000008101426977205673,
          0.000008101071899722959,
          0.000008100716838496426,
          0.000008100361793524043,
          0.000008100006764806421,
          0.000008099651752342727,
          0.000008099296756129916,
          0.000008098941776169815,
          0.000008098586812461522,
          0.000008098231865003855,
          0.000008097876933794957,
          0.000008097522018835684,
          0.000008097167120124883,
          0.000008096812237660799,
          0.000008096457371445615,
          0.00000809610252147357,
          0.000008095747687749746,
          0.000008095392870271091,
          0.000008095038069034995,
          0.000008094683284041822,
          0.000008094328515291936,
          0.000008093973762782373,
          0.000008093619026515042,
          0.000008093264306488183,
          0.0000080929096027009,
          0.000008092554915153255,
          0.000008092200243844011,
          0.000008091845588771142,
          0.000008091490949934416,
          0.000008091136327334622,
          0.000008090781720971417
         ]
        }
       ],
       "layout": {
        "showlegend": true,
        "template": {
         "data": {
          "bar": [
           {
            "error_x": {
             "color": "#2a3f5f"
            },
            "error_y": {
             "color": "#2a3f5f"
            },
            "marker": {
             "line": {
              "color": "#E5ECF6",
              "width": 0.5
             },
             "pattern": {
              "fillmode": "overlay",
              "size": 10,
              "solidity": 0.2
             }
            },
            "type": "bar"
           }
          ],
          "barpolar": [
           {
            "marker": {
             "line": {
              "color": "#E5ECF6",
              "width": 0.5
             },
             "pattern": {
              "fillmode": "overlay",
              "size": 10,
              "solidity": 0.2
             }
            },
            "type": "barpolar"
           }
          ],
          "carpet": [
           {
            "aaxis": {
             "endlinecolor": "#2a3f5f",
             "gridcolor": "white",
             "linecolor": "white",
             "minorgridcolor": "white",
             "startlinecolor": "#2a3f5f"
            },
            "baxis": {
             "endlinecolor": "#2a3f5f",
             "gridcolor": "white",
             "linecolor": "white",
             "minorgridcolor": "white",
             "startlinecolor": "#2a3f5f"
            },
            "type": "carpet"
           }
          ],
          "choropleth": [
           {
            "colorbar": {
             "outlinewidth": 0,
             "ticks": ""
            },
            "type": "choropleth"
           }
          ],
          "contour": [
           {
            "colorbar": {
             "outlinewidth": 0,
             "ticks": ""
            },
            "colorscale": [
             [
              0,
              "#0d0887"
             ],
             [
              0.1111111111111111,
              "#46039f"
             ],
             [
              0.2222222222222222,
              "#7201a8"
             ],
             [
              0.3333333333333333,
              "#9c179e"
             ],
             [
              0.4444444444444444,
              "#bd3786"
             ],
             [
              0.5555555555555556,
              "#d8576b"
             ],
             [
              0.6666666666666666,
              "#ed7953"
             ],
             [
              0.7777777777777778,
              "#fb9f3a"
             ],
             [
              0.8888888888888888,
              "#fdca26"
             ],
             [
              1,
              "#f0f921"
             ]
            ],
            "type": "contour"
           }
          ],
          "contourcarpet": [
           {
            "colorbar": {
             "outlinewidth": 0,
             "ticks": ""
            },
            "type": "contourcarpet"
           }
          ],
          "heatmap": [
           {
            "colorbar": {
             "outlinewidth": 0,
             "ticks": ""
            },
            "colorscale": [
             [
              0,
              "#0d0887"
             ],
             [
              0.1111111111111111,
              "#46039f"
             ],
             [
              0.2222222222222222,
              "#7201a8"
             ],
             [
              0.3333333333333333,
              "#9c179e"
             ],
             [
              0.4444444444444444,
              "#bd3786"
             ],
             [
              0.5555555555555556,
              "#d8576b"
             ],
             [
              0.6666666666666666,
              "#ed7953"
             ],
             [
              0.7777777777777778,
              "#fb9f3a"
             ],
             [
              0.8888888888888888,
              "#fdca26"
             ],
             [
              1,
              "#f0f921"
             ]
            ],
            "type": "heatmap"
           }
          ],
          "heatmapgl": [
           {
            "colorbar": {
             "outlinewidth": 0,
             "ticks": ""
            },
            "colorscale": [
             [
              0,
              "#0d0887"
             ],
             [
              0.1111111111111111,
              "#46039f"
             ],
             [
              0.2222222222222222,
              "#7201a8"
             ],
             [
              0.3333333333333333,
              "#9c179e"
             ],
             [
              0.4444444444444444,
              "#bd3786"
             ],
             [
              0.5555555555555556,
              "#d8576b"
             ],
             [
              0.6666666666666666,
              "#ed7953"
             ],
             [
              0.7777777777777778,
              "#fb9f3a"
             ],
             [
              0.8888888888888888,
              "#fdca26"
             ],
             [
              1,
              "#f0f921"
             ]
            ],
            "type": "heatmapgl"
           }
          ],
          "histogram": [
           {
            "marker": {
             "pattern": {
              "fillmode": "overlay",
              "size": 10,
              "solidity": 0.2
             }
            },
            "type": "histogram"
           }
          ],
          "histogram2d": [
           {
            "colorbar": {
             "outlinewidth": 0,
             "ticks": ""
            },
            "colorscale": [
             [
              0,
              "#0d0887"
             ],
             [
              0.1111111111111111,
              "#46039f"
             ],
             [
              0.2222222222222222,
              "#7201a8"
             ],
             [
              0.3333333333333333,
              "#9c179e"
             ],
             [
              0.4444444444444444,
              "#bd3786"
             ],
             [
              0.5555555555555556,
              "#d8576b"
             ],
             [
              0.6666666666666666,
              "#ed7953"
             ],
             [
              0.7777777777777778,
              "#fb9f3a"
             ],
             [
              0.8888888888888888,
              "#fdca26"
             ],
             [
              1,
              "#f0f921"
             ]
            ],
            "type": "histogram2d"
           }
          ],
          "histogram2dcontour": [
           {
            "colorbar": {
             "outlinewidth": 0,
             "ticks": ""
            },
            "colorscale": [
             [
              0,
              "#0d0887"
             ],
             [
              0.1111111111111111,
              "#46039f"
             ],
             [
              0.2222222222222222,
              "#7201a8"
             ],
             [
              0.3333333333333333,
              "#9c179e"
             ],
             [
              0.4444444444444444,
              "#bd3786"
             ],
             [
              0.5555555555555556,
              "#d8576b"
             ],
             [
              0.6666666666666666,
              "#ed7953"
             ],
             [
              0.7777777777777778,
              "#fb9f3a"
             ],
             [
              0.8888888888888888,
              "#fdca26"
             ],
             [
              1,
              "#f0f921"
             ]
            ],
            "type": "histogram2dcontour"
           }
          ],
          "mesh3d": [
           {
            "colorbar": {
             "outlinewidth": 0,
             "ticks": ""
            },
            "type": "mesh3d"
           }
          ],
          "parcoords": [
           {
            "line": {
             "colorbar": {
              "outlinewidth": 0,
              "ticks": ""
             }
            },
            "type": "parcoords"
           }
          ],
          "pie": [
           {
            "automargin": true,
            "type": "pie"
           }
          ],
          "scatter": [
           {
            "fillpattern": {
             "fillmode": "overlay",
             "size": 10,
             "solidity": 0.2
            },
            "type": "scatter"
           }
          ],
          "scatter3d": [
           {
            "line": {
             "colorbar": {
              "outlinewidth": 0,
              "ticks": ""
             }
            },
            "marker": {
             "colorbar": {
              "outlinewidth": 0,
              "ticks": ""
             }
            },
            "type": "scatter3d"
           }
          ],
          "scattercarpet": [
           {
            "marker": {
             "colorbar": {
              "outlinewidth": 0,
              "ticks": ""
             }
            },
            "type": "scattercarpet"
           }
          ],
          "scattergeo": [
           {
            "marker": {
             "colorbar": {
              "outlinewidth": 0,
              "ticks": ""
             }
            },
            "type": "scattergeo"
           }
          ],
          "scattergl": [
           {
            "marker": {
             "colorbar": {
              "outlinewidth": 0,
              "ticks": ""
             }
            },
            "type": "scattergl"
           }
          ],
          "scattermapbox": [
           {
            "marker": {
             "colorbar": {
              "outlinewidth": 0,
              "ticks": ""
             }
            },
            "type": "scattermapbox"
           }
          ],
          "scatterpolar": [
           {
            "marker": {
             "colorbar": {
              "outlinewidth": 0,
              "ticks": ""
             }
            },
            "type": "scatterpolar"
           }
          ],
          "scatterpolargl": [
           {
            "marker": {
             "colorbar": {
              "outlinewidth": 0,
              "ticks": ""
             }
            },
            "type": "scatterpolargl"
           }
          ],
          "scatterternary": [
           {
            "marker": {
             "colorbar": {
              "outlinewidth": 0,
              "ticks": ""
             }
            },
            "type": "scatterternary"
           }
          ],
          "surface": [
           {
            "colorbar": {
             "outlinewidth": 0,
             "ticks": ""
            },
            "colorscale": [
             [
              0,
              "#0d0887"
             ],
             [
              0.1111111111111111,
              "#46039f"
             ],
             [
              0.2222222222222222,
              "#7201a8"
             ],
             [
              0.3333333333333333,
              "#9c179e"
             ],
             [
              0.4444444444444444,
              "#bd3786"
             ],
             [
              0.5555555555555556,
              "#d8576b"
             ],
             [
              0.6666666666666666,
              "#ed7953"
             ],
             [
              0.7777777777777778,
              "#fb9f3a"
             ],
             [
              0.8888888888888888,
              "#fdca26"
             ],
             [
              1,
              "#f0f921"
             ]
            ],
            "type": "surface"
           }
          ],
          "table": [
           {
            "cells": {
             "fill": {
              "color": "#EBF0F8"
             },
             "line": {
              "color": "white"
             }
            },
            "header": {
             "fill": {
              "color": "#C8D4E3"
             },
             "line": {
              "color": "white"
             }
            },
            "type": "table"
           }
          ]
         },
         "layout": {
          "annotationdefaults": {
           "arrowcolor": "#2a3f5f",
           "arrowhead": 0,
           "arrowwidth": 1
          },
          "autotypenumbers": "strict",
          "coloraxis": {
           "colorbar": {
            "outlinewidth": 0,
            "ticks": ""
           }
          },
          "colorscale": {
           "diverging": [
            [
             0,
             "#8e0152"
            ],
            [
             0.1,
             "#c51b7d"
            ],
            [
             0.2,
             "#de77ae"
            ],
            [
             0.3,
             "#f1b6da"
            ],
            [
             0.4,
             "#fde0ef"
            ],
            [
             0.5,
             "#f7f7f7"
            ],
            [
             0.6,
             "#e6f5d0"
            ],
            [
             0.7,
             "#b8e186"
            ],
            [
             0.8,
             "#7fbc41"
            ],
            [
             0.9,
             "#4d9221"
            ],
            [
             1,
             "#276419"
            ]
           ],
           "sequential": [
            [
             0,
             "#0d0887"
            ],
            [
             0.1111111111111111,
             "#46039f"
            ],
            [
             0.2222222222222222,
             "#7201a8"
            ],
            [
             0.3333333333333333,
             "#9c179e"
            ],
            [
             0.4444444444444444,
             "#bd3786"
            ],
            [
             0.5555555555555556,
             "#d8576b"
            ],
            [
             0.6666666666666666,
             "#ed7953"
            ],
            [
             0.7777777777777778,
             "#fb9f3a"
            ],
            [
             0.8888888888888888,
             "#fdca26"
            ],
            [
             1,
             "#f0f921"
            ]
           ],
           "sequentialminus": [
            [
             0,
             "#0d0887"
            ],
            [
             0.1111111111111111,
             "#46039f"
            ],
            [
             0.2222222222222222,
             "#7201a8"
            ],
            [
             0.3333333333333333,
             "#9c179e"
            ],
            [
             0.4444444444444444,
             "#bd3786"
            ],
            [
             0.5555555555555556,
             "#d8576b"
            ],
            [
             0.6666666666666666,
             "#ed7953"
            ],
            [
             0.7777777777777778,
             "#fb9f3a"
            ],
            [
             0.8888888888888888,
             "#fdca26"
            ],
            [
             1,
             "#f0f921"
            ]
           ]
          },
          "colorway": [
           "#636efa",
           "#EF553B",
           "#00cc96",
           "#ab63fa",
           "#FFA15A",
           "#19d3f3",
           "#FF6692",
           "#B6E880",
           "#FF97FF",
           "#FECB52"
          ],
          "font": {
           "color": "#2a3f5f"
          },
          "geo": {
           "bgcolor": "white",
           "lakecolor": "white",
           "landcolor": "#E5ECF6",
           "showlakes": true,
           "showland": true,
           "subunitcolor": "white"
          },
          "hoverlabel": {
           "align": "left"
          },
          "hovermode": "closest",
          "mapbox": {
           "style": "light"
          },
          "paper_bgcolor": "white",
          "plot_bgcolor": "#E5ECF6",
          "polar": {
           "angularaxis": {
            "gridcolor": "white",
            "linecolor": "white",
            "ticks": ""
           },
           "bgcolor": "#E5ECF6",
           "radialaxis": {
            "gridcolor": "white",
            "linecolor": "white",
            "ticks": ""
           }
          },
          "scene": {
           "xaxis": {
            "backgroundcolor": "#E5ECF6",
            "gridcolor": "white",
            "gridwidth": 2,
            "linecolor": "white",
            "showbackground": true,
            "ticks": "",
            "zerolinecolor": "white"
           },
           "yaxis": {
            "backgroundcolor": "#E5ECF6",
            "gridcolor": "white",
            "gridwidth": 2,
            "linecolor": "white",
            "showbackground": true,
            "ticks": "",
            "zerolinecolor": "white"
           },
           "zaxis": {
            "backgroundcolor": "#E5ECF6",
            "gridcolor": "white",
            "gridwidth": 2,
            "linecolor": "white",
            "showbackground": true,
            "ticks": "",
            "zerolinecolor": "white"
           }
          },
          "shapedefaults": {
           "line": {
            "color": "#2a3f5f"
           }
          },
          "ternary": {
           "aaxis": {
            "gridcolor": "white",
            "linecolor": "white",
            "ticks": ""
           },
           "baxis": {
            "gridcolor": "white",
            "linecolor": "white",
            "ticks": ""
           },
           "bgcolor": "#E5ECF6",
           "caxis": {
            "gridcolor": "white",
            "linecolor": "white",
            "ticks": ""
           }
          },
          "title": {
           "x": 0.05
          },
          "xaxis": {
           "automargin": true,
           "gridcolor": "white",
           "linecolor": "white",
           "ticks": "",
           "title": {
            "standoff": 15
           },
           "zerolinecolor": "white",
           "zerolinewidth": 2
          },
          "yaxis": {
           "automargin": true,
           "gridcolor": "white",
           "linecolor": "white",
           "ticks": "",
           "title": {
            "standoff": 15
           },
           "zerolinecolor": "white",
           "zerolinewidth": 2
          }
         }
        },
        "title": {
         "text": "Error over Iterations"
        },
        "xaxis": {
         "title": {
          "text": "Iteration"
         }
        },
        "yaxis": {
         "title": {
          "text": "Error Value"
         },
         "type": "log"
        }
       }
      }
     },
     "metadata": {},
     "output_type": "display_data"
    }
   ],
   "source": [
    "import numpy as np\n",
    "import plotly.graph_objects as go\n",
    "\n",
    "# Assuming HSI_train, HSI_test, and gradient_descent_with_simplex_projection are defined\n",
    "\n",
    "# Calculate covariance matrix\n",
    "cov = np.cov(HSI_train, bias=False)\n",
    "\n",
    "C = cov\n",
    "w_init = np.zeros(HSI_test[:, 0].shape)\n",
    "Wcn, k, e,variances = gradient_descent_with_simplex_projection(C, w_init, learning_rate=0.01, num_iters=100)\n",
    "\n",
    "# Print results\n",
    "print(Wcn)\n",
    "print(\"Number of iterations:\", k)\n",
    "print(Wcn.shape)\n",
    "print(HSI_test.shape)\n",
    "print(Wcn.shape)\n",
    "\n",
    "# Compute XWcn\n",
    "XWcn = HSI_test.T @ Wcn\n",
    "\n",
    "# Plot the first figure (XWcn)\n",
    "fig1 = go.Figure()\n",
    "fig1.add_trace(go.Scatter(y=XWcn, mode='lines', name='XWcn'))\n",
    "fig1.update_layout(title='Plot of XWcn',\n",
    "                   xaxis_title='Index',\n",
    "                   yaxis_title='XWcn Value',\n",
    "                   showlegend=True)\n",
    "fig1.show()\n",
    "\n",
    "# Plot the second figure (error over iterations)\n",
    "fig2 = go.Figure()\n",
    "fig2.add_trace(go.Scatter(x=list(range(0, k + 1)), y=e, mode='lines+markers', name='Error'))\n",
    "fig2.update_layout(title='Error over Iterations',\n",
    "                   xaxis_title='Iteration',\n",
    "                   yaxis=dict(type='log'),\n",
    "                   yaxis_title='Error Value',\n",
    "                   showlegend=True)\n",
    "fig2.show()\n"
   ]
  },
  {
   "cell_type": "markdown",
   "metadata": {},
   "source": [
    "saving the distance between steps \"e\""
   ]
  },
  {
   "cell_type": "code",
   "execution_count": 416,
   "metadata": {},
   "outputs": [
    {
     "name": "stdout",
     "output_type": "stream",
     "text": [
      "Saved e to data_e.mat\n"
     ]
    }
   ],
   "source": [
    "import numpy as np\n",
    "from scipy.io import savemat\n",
    "\n",
    "# Save e to a .mat file\n",
    "savemat('naive_e_sp100.mat', {'e': e})\n",
    "print(\"Saved e to data_e.mat\")\n",
    "\n",
    "# Save e to a .mat file\n",
    "savemat('naive_variances_sp100.mat', {'e': variances})"
   ]
  },
  {
   "cell_type": "code",
   "execution_count": 417,
   "metadata": {},
   "outputs": [
    {
     "name": "stdout",
     "output_type": "stream",
     "text": [
      "1.000839735217192\n",
      "2.7416967748529316e-05\n"
     ]
    }
   ],
   "source": [
    "mean = np.mean(XWcn)\n",
    "print(mean)\n",
    "var = np.sum(np.square(XWcn - mean))/31\n",
    "print(var)"
   ]
  }
 ],
 "metadata": {
  "kernelspec": {
   "display_name": "Python 3",
   "language": "python",
   "name": "python3"
  },
  "language_info": {
   "codemirror_mode": {
    "name": "ipython",
    "version": 3
   },
   "file_extension": ".py",
   "mimetype": "text/x-python",
   "name": "python",
   "nbconvert_exporter": "python",
   "pygments_lexer": "ipython3",
   "version": "3.11.5"
  }
 },
 "nbformat": 4,
 "nbformat_minor": 2
}
