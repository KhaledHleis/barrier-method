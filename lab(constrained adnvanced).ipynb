{
 "cells": [
  {
   "cell_type": "code",
   "execution_count": 753,
   "metadata": {},
   "outputs": [],
   "source": [
    "import numpy as np\n",
    "import scipy as sc\n",
    "import matplotlib.pyplot as plt"
   ]
  },
  {
   "cell_type": "code",
   "execution_count": 754,
   "metadata": {},
   "outputs": [
    {
     "name": "stdout",
     "output_type": "stream",
     "text": [
      "{'__header__': b'MATLAB 5.0 MAT-file, Platform: PCWIN64, Created on: Thu Jan 09 11:02:37 2014', '__version__': '1.0', '__globals__': [], 'Y': array([[-0.00136637,  0.        , -0.00610936, ...,  0.00763582,\n",
      "         0.00050221,  0.00593558],\n",
      "       [ 0.0094474 ,  0.        , -0.0023535 , ...,  0.00052138,\n",
      "         0.00104194, -0.00208496],\n",
      "       [-0.00661816,  0.00022131,  0.00375484, ...,  0.00437265,\n",
      "        -0.00546881,  0.00194789],\n",
      "       ...,\n",
      "       [ 0.00841139,  0.01395247,  0.0029267 , ..., -0.00417029,\n",
      "         0.00711376, -0.00693965],\n",
      "       [ 0.03047855,  0.02435916, -0.00761458, ..., -0.00362489,\n",
      "         0.02497141,  0.00222761],\n",
      "       [ 0.00238055,  0.02250305, -0.00699886, ..., -0.00087873,\n",
      "         0.        , -0.00220022]])}\n"
     ]
    }
   ],
   "source": [
    "HSI_Raw = sc.io.loadmat(\"Data\\sp100.mat\")\n",
    "print(HSI_Raw)"
   ]
  },
  {
   "cell_type": "markdown",
   "metadata": {},
   "source": [
    "plotting"
   ]
  },
  {
   "cell_type": "code",
   "execution_count": 755,
   "metadata": {},
   "outputs": [
    {
     "name": "stdout",
     "output_type": "stream",
     "text": [
      "(98, 753)\n"
     ]
    },
    {
     "data": {
      "text/plain": [
       "[<matplotlib.lines.Line2D at 0x155493d1e90>,\n",
       " <matplotlib.lines.Line2D at 0x155493deb90>,\n",
       " <matplotlib.lines.Line2D at 0x155491b9510>,\n",
       " <matplotlib.lines.Line2D at 0x15549409790>,\n",
       " <matplotlib.lines.Line2D at 0x15549217150>,\n",
       " <matplotlib.lines.Line2D at 0x15549409d90>,\n",
       " <matplotlib.lines.Line2D at 0x1554940a110>,\n",
       " <matplotlib.lines.Line2D at 0x155493c25d0>,\n",
       " <matplotlib.lines.Line2D at 0x155493dc250>,\n",
       " <matplotlib.lines.Line2D at 0x1554940ad90>,\n",
       " <matplotlib.lines.Line2D at 0x1554940af50>,\n",
       " <matplotlib.lines.Line2D at 0x15549215910>,\n",
       " <matplotlib.lines.Line2D at 0x155493bb7d0>,\n",
       " <matplotlib.lines.Line2D at 0x15549215050>,\n",
       " <matplotlib.lines.Line2D at 0x155491fd610>,\n",
       " <matplotlib.lines.Line2D at 0x155494141d0>,\n",
       " <matplotlib.lines.Line2D at 0x155493fc6d0>,\n",
       " <matplotlib.lines.Line2D at 0x15549414a90>,\n",
       " <matplotlib.lines.Line2D at 0x15547bc4e10>,\n",
       " <matplotlib.lines.Line2D at 0x155494150d0>,\n",
       " <matplotlib.lines.Line2D at 0x15549415490>,\n",
       " <matplotlib.lines.Line2D at 0x155493ed910>,\n",
       " <matplotlib.lines.Line2D at 0x155493d3790>,\n",
       " <matplotlib.lines.Line2D at 0x155493ee010>,\n",
       " <matplotlib.lines.Line2D at 0x15549416290>,\n",
       " <matplotlib.lines.Line2D at 0x155493c8c90>,\n",
       " <matplotlib.lines.Line2D at 0x15549416b50>,\n",
       " <matplotlib.lines.Line2D at 0x155493cef10>,\n",
       " <matplotlib.lines.Line2D at 0x155493d19d0>,\n",
       " <matplotlib.lines.Line2D at 0x15548cb1d90>,\n",
       " <matplotlib.lines.Line2D at 0x155493ffa50>,\n",
       " <matplotlib.lines.Line2D at 0x155493d1710>,\n",
       " <matplotlib.lines.Line2D at 0x15549417fd0>,\n",
       " <matplotlib.lines.Line2D at 0x1554941c650>,\n",
       " <matplotlib.lines.Line2D at 0x1554941c990>,\n",
       " <matplotlib.lines.Line2D at 0x155493ecd50>,\n",
       " <matplotlib.lines.Line2D at 0x15548de3bd0>,\n",
       " <matplotlib.lines.Line2D at 0x1554941d510>,\n",
       " <matplotlib.lines.Line2D at 0x1554941d6d0>,\n",
       " <matplotlib.lines.Line2D at 0x1554941da50>,\n",
       " <matplotlib.lines.Line2D at 0x15547c5b450>,\n",
       " <matplotlib.lines.Line2D at 0x155491d09d0>,\n",
       " <matplotlib.lines.Line2D at 0x15547b70d50>,\n",
       " <matplotlib.lines.Line2D at 0x155493ce9d0>,\n",
       " <matplotlib.lines.Line2D at 0x1554941ed90>,\n",
       " <matplotlib.lines.Line2D at 0x1554941f150>,\n",
       " <matplotlib.lines.Line2D at 0x1554941f3d0>,\n",
       " <matplotlib.lines.Line2D at 0x15547c61350>,\n",
       " <matplotlib.lines.Line2D at 0x1554941fb10>,\n",
       " <matplotlib.lines.Line2D at 0x155493d1490>,\n",
       " <matplotlib.lines.Line2D at 0x15549420190>,\n",
       " <matplotlib.lines.Line2D at 0x155493c0710>,\n",
       " <matplotlib.lines.Line2D at 0x155494209d0>,\n",
       " <matplotlib.lines.Line2D at 0x155493c8e90>,\n",
       " <matplotlib.lines.Line2D at 0x15549421110>,\n",
       " <matplotlib.lines.Line2D at 0x15549421610>,\n",
       " <matplotlib.lines.Line2D at 0x155494218d0>,\n",
       " <matplotlib.lines.Line2D at 0x15549421bd0>,\n",
       " <matplotlib.lines.Line2D at 0x155494221d0>,\n",
       " <matplotlib.lines.Line2D at 0x15549422410>,\n",
       " <matplotlib.lines.Line2D at 0x15549422910>,\n",
       " <matplotlib.lines.Line2D at 0x15549214750>,\n",
       " <matplotlib.lines.Line2D at 0x15549422f10>,\n",
       " <matplotlib.lines.Line2D at 0x15547c7b3d0>,\n",
       " <matplotlib.lines.Line2D at 0x155491fdc90>,\n",
       " <matplotlib.lines.Line2D at 0x1554940bb50>,\n",
       " <matplotlib.lines.Line2D at 0x15549423ed0>,\n",
       " <matplotlib.lines.Line2D at 0x155494300d0>,\n",
       " <matplotlib.lines.Line2D at 0x15549430590>,\n",
       " <matplotlib.lines.Line2D at 0x15549216310>,\n",
       " <matplotlib.lines.Line2D at 0x15549430c90>,\n",
       " <matplotlib.lines.Line2D at 0x15549431050>,\n",
       " <matplotlib.lines.Line2D at 0x15549409510>,\n",
       " <matplotlib.lines.Line2D at 0x155493c9890>,\n",
       " <matplotlib.lines.Line2D at 0x15549431b10>,\n",
       " <matplotlib.lines.Line2D at 0x15549432050>,\n",
       " <matplotlib.lines.Line2D at 0x155491bc850>,\n",
       " <matplotlib.lines.Line2D at 0x155494325d0>,\n",
       " <matplotlib.lines.Line2D at 0x15549432a90>,\n",
       " <matplotlib.lines.Line2D at 0x155493dc710>,\n",
       " <matplotlib.lines.Line2D at 0x15549433090>,\n",
       " <matplotlib.lines.Line2D at 0x155493ade50>,\n",
       " <matplotlib.lines.Line2D at 0x155493bb8d0>,\n",
       " <matplotlib.lines.Line2D at 0x15549433b50>,\n",
       " <matplotlib.lines.Line2D at 0x15549433f10>,\n",
       " <matplotlib.lines.Line2D at 0x155494342d0>,\n",
       " <matplotlib.lines.Line2D at 0x155494343d0>,\n",
       " <matplotlib.lines.Line2D at 0x15549434b10>,\n",
       " <matplotlib.lines.Line2D at 0x155493d2590>,\n",
       " <matplotlib.lines.Line2D at 0x155493d3b10>,\n",
       " <matplotlib.lines.Line2D at 0x15549435490>,\n",
       " <matplotlib.lines.Line2D at 0x15549415910>,\n",
       " <matplotlib.lines.Line2D at 0x15549415c90>,\n",
       " <matplotlib.lines.Line2D at 0x15549436010>,\n",
       " <matplotlib.lines.Line2D at 0x15549416390>,\n",
       " <matplotlib.lines.Line2D at 0x15549436610>,\n",
       " <matplotlib.lines.Line2D at 0x15549436710>,\n",
       " <matplotlib.lines.Line2D at 0x15549436d50>]"
      ]
     },
     "execution_count": 755,
     "metadata": {},
     "output_type": "execute_result"
    },
    {
     "data": {
      "image/png": "[encoded data removed]",
      "text/plain": [
       "<Figure size 640x480 with 1 Axes>"
      ]
     },
     "metadata": {},
     "output_type": "display_data"
    }
   ],
   "source": [
    "HSI = HSI_Raw['Y']\n",
    "print(HSI.shape)\n",
    "#read the last 30 days(from day -60 to day -30)\n",
    "nb_days = HSI.shape[1]\n",
    "nb_instances = HSI.shape[0]\n",
    "HSI = np.exp(HSI)\n",
    "\n",
    "HSI_train = HSI[: , 0:nb_days-30]\n",
    "HSI_test = HSI[: , nb_days-30:nb_days]\n",
    "\n",
    "plt.plot(HSI_test.T)"
   ]
  },
  {
   "cell_type": "markdown",
   "metadata": {},
   "source": [
    "<b>GD"
   ]
  },
  {
   "cell_type": "code",
   "execution_count": 756,
   "metadata": {},
   "outputs": [
    {
     "name": "stdout",
     "output_type": "stream",
     "text": [
      "(99, 723)\n"
     ]
    }
   ],
   "source": [
    "ones_array = np.ones((1, HSI_train.shape[1]))\n",
    "con = np.concatenate((ones_array, HSI_train), axis=0)\n",
    "\n",
    "print(con.shape)"
   ]
  },
  {
   "cell_type": "code",
   "execution_count": 757,
   "metadata": {},
   "outputs": [],
   "source": [
    "def calculate_variance(w):\n",
    "    Wcn = w[1:len(w)]\n",
    "    XWcn = HSI_test.T @ Wcn\n",
    "    mean = np.mean(XWcn)\n",
    "    print(mean)\n",
    "    var = np.sum(np.square(XWcn - mean))/31\n",
    "    return var"
   ]
  },
  {
   "cell_type": "code",
   "execution_count": 758,
   "metadata": {},
   "outputs": [
    {
     "name": "stdout",
     "output_type": "stream",
     "text": [
      "inner loop stoped after j =  0\n",
      "0.9907324481981229\n",
      "inner loop stoped after j =  0\n",
      "0.9907324481981229\n",
      "inner loop stoped after j =  0\n",
      "0.9907324481981229\n",
      "inner loop stoped after j =  0\n",
      "0.9907324481981229\n",
      "inner loop stoped after j =  0\n",
      "0.9907324481981229\n",
      "inner loop stoped after j =  0\n",
      "0.9907324481981229\n",
      "inner loop stoped after j =  0\n",
      "0.9907324481981229\n",
      "inner loop stoped after j =  0\n",
      "0.9907324481981229\n",
      "inner loop stoped after j =  0\n",
      "0.9907324481981229\n",
      "inner loop stoped after j =  0\n",
      "0.9907324481981229\n",
      "inner loop stoped after j =  0\n",
      "0.9907324481981229\n",
      "inner loop stoped after j =  0\n",
      "0.9907324481981229\n",
      "inner loop stoped after j =  0\n",
      "0.9907324481981229\n",
      "inner loop stoped after j =  0\n",
      "0.9907324481981229\n",
      "inner loop stoped after j =  0\n",
      "0.9907324481981229\n",
      "inner loop stoped after j =  0\n",
      "0.9907324481981229\n",
      "inner loop stoped after j =  0\n",
      "0.9907324481981229\n",
      "inner loop stoped after j =  0\n",
      "0.9907324481981229\n",
      "inner loop stoped after j =  0\n",
      "0.9907324481981229\n",
      "inner loop stoped after j =  0\n",
      "0.9907324481981229\n",
      "inner loop stoped after j =  0\n",
      "0.9907324481981229\n",
      "inner loop stoped after j =  0\n",
      "0.9907324481981229\n",
      "inner loop stoped after j =  0\n",
      "0.9907324481981229\n",
      "inner loop stoped after j =  0\n",
      "0.9907324481981229\n",
      "inner loop stoped after j =  0\n",
      "0.9907324481981229\n",
      "inner loop stoped after j =  0\n",
      "0.9907324481981229\n",
      "inner loop stoped after j =  0\n",
      "0.9907324481981229\n",
      "inner loop stoped after j =  0\n",
      "0.9907324481981229\n",
      "inner loop stoped after j =  0\n",
      "0.9907324481981229\n",
      "inner loop stoped after j =  0\n",
      "0.9907324481981229\n",
      "inner loop stoped after j =  0\n",
      "0.9907324481981229\n",
      "inner loop stoped after j =  0\n",
      "0.9907324481981229\n",
      "inner loop stoped after j =  0\n",
      "0.9907324481981229\n",
      "inner loop stoped after j =  0\n",
      "0.9907324481981229\n",
      "inner loop stoped after j =  0\n",
      "0.9907324481981229\n",
      "inner loop stoped after j =  0\n",
      "0.9907324481981229\n",
      "inner loop stoped after j =  0\n",
      "0.9907324481981229\n",
      "inner loop stoped after j =  0\n",
      "0.9907324481981229\n",
      "inner loop stoped after j =  0\n",
      "0.9907324481981229\n",
      "inner loop stoped after j =  0\n",
      "0.9907324481981229\n",
      "inner loop stoped after j =  0\n",
      "0.9907324481981229\n",
      "inner loop stoped after j =  0\n",
      "0.9907324481981229\n",
      "inner loop stoped after j =  0\n",
      "0.9907324481981229\n",
      "inner loop stoped after j =  0\n",
      "0.9907324481981229\n",
      "inner loop stoped after j =  0\n",
      "0.9907324481981229\n",
      "inner loop stoped after j =  0\n",
      "0.9907324481981229\n",
      "inner loop stoped after j =  0\n",
      "0.9907324481981229\n",
      "inner loop stoped after j =  0\n",
      "0.9907324481981229\n",
      "inner loop stoped after j =  0\n",
      "0.9907324481981229\n",
      "inner loop stoped after j =  0\n",
      "0.9907324481981229\n",
      "inner loop stoped after j =  0\n",
      "0.9907324481981229\n",
      "inner loop stoped after j =  0\n",
      "0.9907324481981229\n",
      "inner loop stoped after j =  0\n",
      "0.9907324481981229\n",
      "inner loop stoped after j =  0\n",
      "0.9907324481981229\n",
      "inner loop stoped after j =  0\n",
      "0.9907324481981229\n",
      "inner loop stoped after j =  0\n",
      "0.9907324481981229\n",
      "inner loop stoped after j =  0\n",
      "0.9907324481981229\n",
      "inner loop stoped after j =  0\n",
      "0.9907324481981229\n",
      "inner loop stoped after j =  0\n",
      "0.9907324481981229\n",
      "inner loop stoped after j =  0\n",
      "0.9907324481981229\n",
      "inner loop stoped after j =  0\n",
      "0.9907324481981229\n",
      "inner loop stoped after j =  0\n",
      "0.9907324481981229\n",
      "inner loop stoped after j =  0\n",
      "0.9907324481981229\n",
      "inner loop stoped after j =  0\n",
      "0.9907324481981229\n",
      "inner loop stoped after j =  0\n",
      "0.9907324481981229\n",
      "inner loop stoped after j =  0\n",
      "0.9907324481981229\n",
      "inner loop stoped after j =  0\n",
      "0.9907324481981229\n",
      "inner loop stoped after j =  0\n",
      "0.9907324481981229\n",
      "inner loop stoped after j =  0\n",
      "0.9907324481981229\n",
      "inner loop stoped after j =  0\n",
      "0.9907324481981229\n",
      "inner loop stoped after j =  0\n",
      "0.9907324481981229\n",
      "inner loop stoped after j =  0\n",
      "0.9907324481981229\n",
      "inner loop stoped after j =  0\n",
      "0.9907324481981229\n",
      "inner loop stoped after j =  0\n",
      "0.9907324481981229\n",
      "inner loop stoped after j =  0\n",
      "0.9907324481981229\n",
      "inner loop stoped after j =  0\n",
      "0.9907324481981229\n",
      "inner loop stoped after j =  0\n",
      "0.9907324481981229\n",
      "inner loop stoped after j =  0\n",
      "0.9907324481981229\n",
      "inner loop stoped after j =  0\n",
      "0.9907324481981229\n",
      "inner loop stoped after j =  0\n",
      "0.9907324481981229\n",
      "inner loop stoped after j =  0\n",
      "0.9907324481981229\n",
      "inner loop stoped after j =  0\n",
      "0.9907324481981229\n",
      "inner loop stoped after j =  0\n",
      "0.9907324481981229\n",
      "inner loop stoped after j =  0\n",
      "0.9907324481981229\n",
      "inner loop stoped after j =  0\n",
      "0.9907324481981229\n",
      "inner loop stoped after j =  0\n",
      "0.9907324481981229\n",
      "inner loop stoped after j =  0\n",
      "0.9907324481981229\n",
      "inner loop stoped after j =  0\n",
      "0.9907324481981229\n",
      "inner loop stoped after j =  0\n",
      "0.9907324481981229\n",
      "inner loop stoped after j =  0\n",
      "0.9907324481981229\n",
      "inner loop stoped after j =  0\n",
      "0.9907324481981229\n",
      "inner loop stoped after j =  0\n",
      "0.9907324481981229\n",
      "inner loop stoped after j =  0\n",
      "0.9907324481981229\n",
      "inner loop stoped after j =  0\n",
      "0.9907324481981229\n",
      "inner loop stoped after j =  0\n",
      "0.9907324481981229\n",
      "inner loop stoped after j =  0\n",
      "0.9907324481981229\n",
      "inner loop stoped after j =  0\n",
      "0.9907324481981229\n",
      "inner loop stoped after j =  0\n",
      "0.9907324481981229\n",
      "inner loop stoped after j =  0\n",
      "0.9907324481981229\n",
      "inner loop stoped after j =  0\n",
      "0.9907324481981229\n",
      "Reached the maximum number of iterations.\n",
      "iteration 99\n",
      "Final w_tilde: [0.01010101 0.01010101 0.01010101 0.01010101 0.01010101 0.01010101\n",
      " 0.01010101 0.01010101 0.01010101 0.01010101 0.01010101 0.01010101\n",
      " 0.01010101 0.01010101 0.01010101 0.01010101 0.01010101 0.01010101\n",
      " 0.01010101 0.01010101 0.01010101 0.01010101 0.01010101 0.01010101\n",
      " 0.01010101 0.01010101 0.01010101 0.01010101 0.01010101 0.01010101\n",
      " 0.01010101 0.01010101 0.01010101 0.01010101 0.01010101 0.01010101\n",
      " 0.01010101 0.01010101 0.01010101 0.01010101 0.01010101 0.01010101\n",
      " 0.01010101 0.01010101 0.01010101 0.01010101 0.01010101 0.01010101\n",
      " 0.01010101 0.01010101 0.01010101 0.01010101 0.01010101 0.01010101\n",
      " 0.01010101 0.01010101 0.01010101 0.01010101 0.01010101 0.01010101\n",
      " 0.01010101 0.01010101 0.01010101 0.01010101 0.01010101 0.01010101\n",
      " 0.01010101 0.01010101 0.01010101 0.01010101 0.01010101 0.01010101\n",
      " 0.01010101 0.01010101 0.01010101 0.01010101 0.01010101 0.01010101\n",
      " 0.01010101 0.01010101 0.01010101 0.01010101 0.01010101 0.01010101\n",
      " 0.01010101 0.01010101 0.01010101 0.01010101 0.01010101 0.01010101\n",
      " 0.01010101 0.01010101 0.01010101 0.01010101 0.01010101 0.01010101\n",
      " 0.01010101 0.01010101 0.01010101]\n",
      "99\n",
      "total_number_of_iterations 200\n"
     ]
    }
   ],
   "source": [
    "import numpy as np\n",
    "\n",
    "C = cov = np.cov(con,bias=False)\n",
    "n = C.shape[0]\n",
    "mu = 0.01 # initial value of mu\n",
    "beta = 0.9 #mu decreasing factor\n",
    "alpha = 0.001 #learning rate\n",
    "iterationsOuter = 100 # maximum number of iterations\n",
    "iterationsinner = 100\n",
    "toleranceInner = 1e-2 # the tolerance on W to stop the gradient\n",
    "toleranceOuter = 1e-5\n",
    "P = np.eye(n) - (1 / n) * np.ones((n, n)) # projection to isure the sum of W\n",
    "Pinv = np.linalg.inv(P)\n",
    "\n",
    "w = (1 / n) * np.ones(n)    #initialize W and concatinate a neutral element(to controle the scale of W)\n",
    "A = P @ w + (1 / n) * np.ones(n)\n",
    "steps = []\n",
    "e = []\n",
    "variances=[]\n",
    "total_number_of_iterations = 0\n",
    "for i in range(iterationsOuter): # outer loop (determines mu*)\n",
    "\n",
    "    Ainio = A.copy()\n",
    "\n",
    "    for j in range(iterationsinner):#inner loop determines A(mu)*\n",
    "        #print(\"i = \",i,\"|\",\"j = \",j)\n",
    "        #print(\"mean\",np.mean(A))\n",
    "        Ainii = A.copy()\n",
    "\n",
    "        grad_quadratic = C @ A          \n",
    "        grad_quadratic = grad_quadratic / np.linalg.norm(grad_quadratic)\n",
    "\n",
    "        grad_barrier = -mu * np.reciprocal(A)\n",
    "        grad_barrier = grad_barrier / np.linalg.norm(grad_barrier)\n",
    "        \n",
    "        #print(\"pen\",grad_barrier)\n",
    "\n",
    "        gradient = grad_quadratic + grad_barrier\n",
    "        A = A - alpha * gradient\n",
    "        \n",
    "        #stop condition for inner loop\n",
    "        dist = np.linalg.norm(Ainii - A)\n",
    "        e.append(dist)\n",
    "        #print(\"dist\",dist)\n",
    "        total_number_of_iterations +=1\n",
    "        if(dist < toleranceInner * np.sqrt(n) ):\n",
    "            print(\"inner loop stoped after j = \", j)\n",
    "            break\n",
    "    steps.append(np.mean(A))\n",
    "    #update mu\n",
    "    mu = mu * beta\n",
    "\n",
    "\n",
    "    total_number_of_iterations +=1\n",
    "    #stop condition for outer loop\n",
    "    dist = np.linalg.norm(Ainio - A)\n",
    "    variances.append(calculate_variance(w))\n",
    "    if(dist < toleranceOuter * np.sqrt(n) ):\n",
    "        print(\"outer loop stoped after i = \", i)\n",
    "        break \n",
    "else:\n",
    "    print(\"Reached the maximum number of iterations.\")\n",
    "\n",
    "\n",
    "print(\"iteration\",i)\n",
    "print(\"Final w_tilde:\", w)\n",
    "print(len(A))\n",
    "print(\"total_number_of_iterations\",total_number_of_iterations)"
   ]
  },
  {
   "cell_type": "code",
   "execution_count": 759,
   "metadata": {},
   "outputs": [
    {
     "data": {
      "application/vnd.plotly.v1+json": {
       "config": {
        "plotlyServerURL": "https://plot.ly"
       },
       "data": [
        {
         "mode": "lines",
         "name": "Steps",
         "type": "scatter",
         "x": [
          0,
          1,
          2,
          3,
          4,
          5,
          6,
          7,
          8,
          9,
          10,
          11,
          12,
          13,
          14,
          15,
          16,
          17,
          18,
          19,
          20,
          21,
          22,
          23,
          24,
          25,
          26,
          27,
          28,
          29,
          30,
          31,
          32,
          33,
          34,
          35,
          36,
          37,
          38,
          39,
          40,
          41,
          42,
          43,
          44,
          45,
          46,
          47,
          48,
          49,
          50,
          51,
          52,
          53,
          54,
          55,
          56,
          57,
          58,
          59,
          60,
          61,
          62,
          63,
          64,
          65,
          66,
          67,
          68,
          69,
          70,
          71,
          72,
          73,
          74,
          75,
          76,
          77,
          78,
          79,
          80,
          81,
          82,
          83,
          84,
          85,
          86,
          87,
          88,
          89,
          90,
          91,
          92,
          93,
          94,
          95,
          96,
          97,
          98,
          99
         ],
         "y": [
          0.01010699738151239,
          0.010112977521277483,
          0.010118949455677593,
          0.010124912150923078,
          0.01013086460285723,
          0.01013680583585206,
          0.01014273490179671,
          0.010148650879170983,
          0.010154552872197164,
          0.010160440010064031,
          0.010166311446217408,
          0.010172166357712129,
          0.010178003944620725,
          0.01018382342949446,
          0.010189624056872702,
          0.010195405092836871,
          0.010201165824605486,
          0.010206905560166965,
          0.01021262362794718,
          0.010218319376508734,
          0.010223992174279264,
          0.0102296414093061,
          0.010235266489034741,
          0.010240866840108777,
          0.010246441908188925,
          0.010251991157788954,
          0.010257514072126377,
          0.010263010152985889,
          0.010268478920593516,
          0.010273919913499642,
          0.010279332688469067,
          0.010284716820376355,
          0.0102900719021048,
          0.010295397544447417,
          0.010300693376008427,
          0.010305959043103831,
          0.010311194209659667,
          0.010316398557106667,
          0.01032157178427021,
          0.010326713607254298,
          0.010331823759318726,
          0.01033690199074835,
          0.010341948068713719,
          0.010346961777122276,
          0.010351942916459531,
          0.01035689130361956,
          0.010361806771724496,
          0.01036668916993252,
          0.010371538363234208,
          0.010376354232236946,
          0.010381136672937425,
          0.010385885596482167,
          0.010390600928916183,
          0.01039528261091997,
          0.01039993059753507,
          0.010404544857878551,
          0.010409125374846784,
          0.010413672144809013,
          0.010418185177291253,
          0.010422664494651051,
          0.010427110131743817,
          0.010431522135581356,
          0.010435900564983296,
          0.010440245490222256,
          0.010444556992663391,
          0.010448835164399213,
          0.010453080107880435,
          0.010457291935543683,
          0.010461470769436864,
          0.010465616740842988,
          0.010469729989903314,
          0.010473810665240516,
          0.01047785892358269,
          0.010481874929388986,
          0.010485858854477491,
          0.01048981087765617,
          0.010493731184357437,
          0.010497619966277032,
          0.010501477421017839,
          0.010505303751739081,
          0.010509099166811553,
          0.01051286387947928,
          0.010516598107528065,
          0.010520302072961315,
          0.010523976001683564,
          0.010527620123191883,
          0.01053123467027561,
          0.010534819878724502,
          0.0105383759870456,
          0.010541903236188935,
          0.01054540186928219,
          0.010548872131374464,
          0.010552314269189131,
          0.010555728530885895,
          0.010559115165831965,
          0.010562474424382429,
          0.010565806557669652,
          0.010569111817401756,
          0.010572390455669954,
          0.010575642724764751
         ]
        }
       ],
       "layout": {
        "showlegend": true,
        "template": {
         "data": {
          "bar": [
           {
            "error_x": {
             "color": "#2a3f5f"
            },
            "error_y": {
             "color": "#2a3f5f"
            },
            "marker": {
             "line": {
              "color": "#E5ECF6",
              "width": 0.5
             },
             "pattern": {
              "fillmode": "overlay",
              "size": 10,
              "solidity": 0.2
             }
            },
            "type": "bar"
           }
          ],
          "barpolar": [
           {
            "marker": {
             "line": {
              "color": "#E5ECF6",
              "width": 0.5
             },
             "pattern": {
              "fillmode": "overlay",
              "size": 10,
              "solidity": 0.2
             }
            },
            "type": "barpolar"
           }
          ],
          "carpet": [
           {
            "aaxis": {
             "endlinecolor": "#2a3f5f",
             "gridcolor": "white",
             "linecolor": "white",
             "minorgridcolor": "white",
             "startlinecolor": "#2a3f5f"
            },
            "baxis": {
             "endlinecolor": "#2a3f5f",
             "gridcolor": "white",
             "linecolor": "white",
             "minorgridcolor": "white",
             "startlinecolor": "#2a3f5f"
            },
            "type": "carpet"
           }
          ],
          "choropleth": [
           {
            "colorbar": {
             "outlinewidth": 0,
             "ticks": ""
            },
            "type": "choropleth"
           }
          ],
          "contour": [
           {
            "colorbar": {
             "outlinewidth": 0,
             "ticks": ""
            },
            "colorscale": [
             [
              0,
              "#0d0887"
             ],
             [
              0.1111111111111111,
              "#46039f"
             ],
             [
              0.2222222222222222,
              "#7201a8"
             ],
             [
              0.3333333333333333,
              "#9c179e"
             ],
             [
              0.4444444444444444,
              "#bd3786"
             ],
             [
              0.5555555555555556,
              "#d8576b"
             ],
             [
              0.6666666666666666,
              "#ed7953"
             ],
             [
              0.7777777777777778,
              "#fb9f3a"
             ],
             [
              0.8888888888888888,
              "#fdca26"
             ],
             [
              1,
              "#f0f921"
             ]
            ],
            "type": "contour"
           }
          ],
          "contourcarpet": [
           {
            "colorbar": {
             "outlinewidth": 0,
             "ticks": ""
            },
            "type": "contourcarpet"
           }
          ],
          "heatmap": [
           {
            "colorbar": {
             "outlinewidth": 0,
             "ticks": ""
            },
            "colorscale": [
             [
              0,
              "#0d0887"
             ],
             [
              0.1111111111111111,
              "#46039f"
             ],
             [
              0.2222222222222222,
              "#7201a8"
             ],
             [
              0.3333333333333333,
              "#9c179e"
             ],
             [
              0.4444444444444444,
              "#bd3786"
             ],
             [
              0.5555555555555556,
              "#d8576b"
             ],
             [
              0.6666666666666666,
              "#ed7953"
             ],
             [
              0.7777777777777778,
              "#fb9f3a"
             ],
             [
              0.8888888888888888,
              "#fdca26"
             ],
             [
              1,
              "#f0f921"
             ]
            ],
            "type": "heatmap"
           }
          ],
          "heatmapgl": [
           {
            "colorbar": {
             "outlinewidth": 0,
             "ticks": ""
            },
            "colorscale": [
             [
              0,
              "#0d0887"
             ],
             [
              0.1111111111111111,
              "#46039f"
             ],
             [
              0.2222222222222222,
              "#7201a8"
             ],
             [
              0.3333333333333333,
              "#9c179e"
             ],
             [
              0.4444444444444444,
              "#bd3786"
             ],
             [
              0.5555555555555556,
              "#d8576b"
             ],
             [
              0.6666666666666666,
              "#ed7953"
             ],
             [
              0.7777777777777778,
              "#fb9f3a"
             ],
             [
              0.8888888888888888,
              "#fdca26"
             ],
             [
              1,
              "#f0f921"
             ]
            ],
            "type": "heatmapgl"
           }
          ],
          "histogram": [
           {
            "marker": {
             "pattern": {
              "fillmode": "overlay",
              "size": 10,
              "solidity": 0.2
             }
            },
            "type": "histogram"
           }
          ],
          "histogram2d": [
           {
            "colorbar": {
             "outlinewidth": 0,
             "ticks": ""
            },
            "colorscale": [
             [
              0,
              "#0d0887"
             ],
             [
              0.1111111111111111,
              "#46039f"
             ],
             [
              0.2222222222222222,
              "#7201a8"
             ],
             [
              0.3333333333333333,
              "#9c179e"
             ],
             [
              0.4444444444444444,
              "#bd3786"
             ],
             [
              0.5555555555555556,
              "#d8576b"
             ],
             [
              0.6666666666666666,
              "#ed7953"
             ],
             [
              0.7777777777777778,
              "#fb9f3a"
             ],
             [
              0.8888888888888888,
              "#fdca26"
             ],
             [
              1,
              "#f0f921"
             ]
            ],
            "type": "histogram2d"
           }
          ],
          "histogram2dcontour": [
           {
            "colorbar": {
             "outlinewidth": 0,
             "ticks": ""
            },
            "colorscale": [
             [
              0,
              "#0d0887"
             ],
             [
              0.1111111111111111,
              "#46039f"
             ],
             [
              0.2222222222222222,
              "#7201a8"
             ],
             [
              0.3333333333333333,
              "#9c179e"
             ],
             [
              0.4444444444444444,
              "#bd3786"
             ],
             [
              0.5555555555555556,
              "#d8576b"
             ],
             [
              0.6666666666666666,
              "#ed7953"
             ],
             [
              0.7777777777777778,
              "#fb9f3a"
             ],
             [
              0.8888888888888888,
              "#fdca26"
             ],
             [
              1,
              "#f0f921"
             ]
            ],
            "type": "histogram2dcontour"
           }
          ],
          "mesh3d": [
           {
            "colorbar": {
             "outlinewidth": 0,
             "ticks": ""
            },
            "type": "mesh3d"
           }
          ],
          "parcoords": [
           {
            "line": {
             "colorbar": {
              "outlinewidth": 0,
              "ticks": ""
             }
            },
            "type": "parcoords"
           }
          ],
          "pie": [
           {
            "automargin": true,
            "type": "pie"
           }
          ],
          "scatter": [
           {
            "fillpattern": {
             "fillmode": "overlay",
             "size": 10,
             "solidity": 0.2
            },
            "type": "scatter"
           }
          ],
          "scatter3d": [
           {
            "line": {
             "colorbar": {
              "outlinewidth": 0,
              "ticks": ""
             }
            },
            "marker": {
             "colorbar": {
              "outlinewidth": 0,
              "ticks": ""
             }
            },
            "type": "scatter3d"
           }
          ],
          "scattercarpet": [
           {
            "marker": {
             "colorbar": {
              "outlinewidth": 0,
              "ticks": ""
             }
            },
            "type": "scattercarpet"
           }
          ],
          "scattergeo": [
           {
            "marker": {
             "colorbar": {
              "outlinewidth": 0,
              "ticks": ""
             }
            },
            "type": "scattergeo"
           }
          ],
          "scattergl": [
           {
            "marker": {
             "colorbar": {
              "outlinewidth": 0,
              "ticks": ""
             }
            },
            "type": "scattergl"
           }
          ],
          "scattermapbox": [
           {
            "marker": {
             "colorbar": {
              "outlinewidth": 0,
              "ticks": ""
             }
            },
            "type": "scattermapbox"
           }
          ],
          "scatterpolar": [
           {
            "marker": {
             "colorbar": {
              "outlinewidth": 0,
              "ticks": ""
             }
            },
            "type": "scatterpolar"
           }
          ],
          "scatterpolargl": [
           {
            "marker": {
             "colorbar": {
              "outlinewidth": 0,
              "ticks": ""
             }
            },
            "type": "scatterpolargl"
           }
          ],
          "scatterternary": [
           {
            "marker": {
             "colorbar": {
              "outlinewidth": 0,
              "ticks": ""
             }
            },
            "type": "scatterternary"
           }
          ],
          "surface": [
           {
            "colorbar": {
             "outlinewidth": 0,
             "ticks": ""
            },
            "colorscale": [
             [
              0,
              "#0d0887"
             ],
             [
              0.1111111111111111,
              "#46039f"
             ],
             [
              0.2222222222222222,
              "#7201a8"
             ],
             [
              0.3333333333333333,
              "#9c179e"
             ],
             [
              0.4444444444444444,
              "#bd3786"
             ],
             [
              0.5555555555555556,
              "#d8576b"
             ],
             [
              0.6666666666666666,
              "#ed7953"
             ],
             [
              0.7777777777777778,
              "#fb9f3a"
             ],
             [
              0.8888888888888888,
              "#fdca26"
             ],
             [
              1,
              "#f0f921"
             ]
            ],
            "type": "surface"
           }
          ],
          "table": [
           {
            "cells": {
             "fill": {
              "color": "#EBF0F8"
             },
             "line": {
              "color": "white"
             }
            },
            "header": {
             "fill": {
              "color": "#C8D4E3"
             },
             "line": {
              "color": "white"
             }
            },
            "type": "table"
           }
          ]
         },
         "layout": {
          "annotationdefaults": {
           "arrowcolor": "#2a3f5f",
           "arrowhead": 0,
           "arrowwidth": 1
          },
          "autotypenumbers": "strict",
          "coloraxis": {
           "colorbar": {
            "outlinewidth": 0,
            "ticks": ""
           }
          },
          "colorscale": {
           "diverging": [
            [
             0,
             "#8e0152"
            ],
            [
             0.1,
             "#c51b7d"
            ],
            [
             0.2,
             "#de77ae"
            ],
            [
             0.3,
             "#f1b6da"
            ],
            [
             0.4,
             "#fde0ef"
            ],
            [
             0.5,
             "#f7f7f7"
            ],
            [
             0.6,
             "#e6f5d0"
            ],
            [
             0.7,
             "#b8e186"
            ],
            [
             0.8,
             "#7fbc41"
            ],
            [
             0.9,
             "#4d9221"
            ],
            [
             1,
             "#276419"
            ]
           ],
           "sequential": [
            [
             0,
             "#0d0887"
            ],
            [
             0.1111111111111111,
             "#46039f"
            ],
            [
             0.2222222222222222,
             "#7201a8"
            ],
            [
             0.3333333333333333,
             "#9c179e"
            ],
            [
             0.4444444444444444,
             "#bd3786"
            ],
            [
             0.5555555555555556,
             "#d8576b"
            ],
            [
             0.6666666666666666,
             "#ed7953"
            ],
            [
             0.7777777777777778,
             "#fb9f3a"
            ],
            [
             0.8888888888888888,
             "#fdca26"
            ],
            [
             1,
             "#f0f921"
            ]
           ],
           "sequentialminus": [
            [
             0,
             "#0d0887"
            ],
            [
             0.1111111111111111,
             "#46039f"
            ],
            [
             0.2222222222222222,
             "#7201a8"
            ],
            [
             0.3333333333333333,
             "#9c179e"
            ],
            [
             0.4444444444444444,
             "#bd3786"
            ],
            [
             0.5555555555555556,
             "#d8576b"
            ],
            [
             0.6666666666666666,
             "#ed7953"
            ],
            [
             0.7777777777777778,
             "#fb9f3a"
            ],
            [
             0.8888888888888888,
             "#fdca26"
            ],
            [
             1,
             "#f0f921"
            ]
           ]
          },
          "colorway": [
           "#636efa",
           "#EF553B",
           "#00cc96",
           "#ab63fa",
           "#FFA15A",
           "#19d3f3",
           "#FF6692",
           "#B6E880",
           "#FF97FF",
           "#FECB52"
          ],
          "font": {
           "color": "#2a3f5f"
          },
          "geo": {
           "bgcolor": "white",
           "lakecolor": "white",
           "landcolor": "#E5ECF6",
           "showlakes": true,
           "showland": true,
           "subunitcolor": "white"
          },
          "hoverlabel": {
           "align": "left"
          },
          "hovermode": "closest",
          "mapbox": {
           "style": "light"
          },
          "paper_bgcolor": "white",
          "plot_bgcolor": "#E5ECF6",
          "polar": {
           "angularaxis": {
            "gridcolor": "white",
            "linecolor": "white",
            "ticks": ""
           },
           "bgcolor": "#E5ECF6",
           "radialaxis": {
            "gridcolor": "white",
            "linecolor": "white",
            "ticks": ""
           }
          },
          "scene": {
           "xaxis": {
            "backgroundcolor": "#E5ECF6",
            "gridcolor": "white",
            "gridwidth": 2,
            "linecolor": "white",
            "showbackground": true,
            "ticks": "",
            "zerolinecolor": "white"
           },
           "yaxis": {
            "backgroundcolor": "#E5ECF6",
            "gridcolor": "white",
            "gridwidth": 2,
            "linecolor": "white",
            "showbackground": true,
            "ticks": "",
            "zerolinecolor": "white"
           },
           "zaxis": {
            "backgroundcolor": "#E5ECF6",
            "gridcolor": "white",
            "gridwidth": 2,
            "linecolor": "white",
            "showbackground": true,
            "ticks": "",
            "zerolinecolor": "white"
           }
          },
          "shapedefaults": {
           "line": {
            "color": "#2a3f5f"
           }
          },
          "ternary": {
           "aaxis": {
            "gridcolor": "white",
            "linecolor": "white",
            "ticks": ""
           },
           "baxis": {
            "gridcolor": "white",
            "linecolor": "white",
            "ticks": ""
           },
           "bgcolor": "#E5ECF6",
           "caxis": {
            "gridcolor": "white",
            "linecolor": "white",
            "ticks": ""
           }
          },
          "title": {
           "x": 0.05
          },
          "xaxis": {
           "automargin": true,
           "gridcolor": "white",
           "linecolor": "white",
           "ticks": "",
           "title": {
            "standoff": 15
           },
           "zerolinecolor": "white",
           "zerolinewidth": 2
          },
          "yaxis": {
           "automargin": true,
           "gridcolor": "white",
           "linecolor": "white",
           "ticks": "",
           "title": {
            "standoff": 15
           },
           "zerolinecolor": "white",
           "zerolinewidth": 2
          }
         }
        },
        "title": {
         "text": "Plot of Steps"
        },
        "xaxis": {
         "title": {
          "text": "Index"
         }
        },
        "yaxis": {
         "title": {
          "text": "Steps Value"
         }
        }
       }
      }
     },
     "metadata": {},
     "output_type": "display_data"
    },
    {
     "data": {
      "application/vnd.plotly.v1+json": {
       "config": {
        "plotlyServerURL": "https://plot.ly"
       },
       "data": [
        {
         "mode": "lines",
         "name": "Error",
         "type": "scatter",
         "x": [
          0,
          1,
          2,
          3,
          4,
          5,
          6,
          7,
          8,
          9,
          10,
          11,
          12,
          13,
          14,
          15,
          16,
          17,
          18,
          19,
          20,
          21,
          22,
          23,
          24,
          25,
          26,
          27,
          28,
          29,
          30,
          31,
          32,
          33,
          34,
          35,
          36,
          37,
          38,
          39,
          40,
          41,
          42,
          43,
          44,
          45,
          46,
          47,
          48,
          49,
          50,
          51,
          52,
          53,
          54,
          55,
          56,
          57,
          58,
          59,
          60,
          61,
          62,
          63,
          64,
          65,
          66,
          67,
          68,
          69,
          70,
          71,
          72,
          73,
          74,
          75,
          76,
          77,
          78,
          79,
          80,
          81,
          82,
          83,
          84,
          85,
          86,
          87,
          88,
          89,
          90,
          91,
          92,
          93,
          94,
          95,
          96,
          97,
          98,
          99
         ],
         "y": [
          0.000345174416265612,
          0.0003416506257059725,
          0.0003381587570805373,
          0.0003346983613926028,
          0.0003312690275220169,
          0.0003278703798412681,
          0.0003245020760026414,
          0.0003211638048754946,
          0.0003178552846153411,
          0.0003145762608487103,
          0.00031132650495976986,
          0.0003081058124663973,
          0.0003049140014749631,
          0.00030175091120439735,
          0.00029861640057132673,
          0.0002955103468291518,
          0.00029243264425485603,
          0.0002893832028782257,
          0.00028636194724895674,
          0.0002833688152377502,
          0.0002804037568682667,
          0.00027746673317727885,
          0.00027455771510096513,
          0.0002716766823857602,
          0.0002688236225226142,
          0.0002659985297039651,
          0.00026320140380302196,
          0.00026043224937538964,
          0.00025769107468330473,
          0.00025497789074302175,
          0.0002522927103961943,
          0.00024963554740621335,
          0.00024700641558070865,
          0.00024440532792154083,
          0.00024183229580371706,
          0.00023928732818476973,
          0.00023677043084617555,
          0.0002342816056684192,
          0.00023182084994131488,
          0.00022938815571115956,
          0.0002269835091662224,
          0.0002246068900620234,
          0.0002222582711877137,
          0.00021993761787475867,
          0.0002176448875489788,
          0.00021538002932682028,
          0.00021314298365657046,
          0.00021093368200499003,
          0.00020875204658969305,
          0.00020659799015732244,
          0.00020447141580740168,
          0.0002023722168614719,
          0.00020030027677695147,
          0.00019825546910488503,
          0.0001962376574905682,
          0.00019424669571580102,
          0.00019228242778135144,
          0.00019034468802799168,
          0.00018843330129433874,
          0.00018654808310953014,
          0.00018468883991866862,
          0.0001828553693388089,
          0.00018104746044320913,
          0.0001792648940714309,
          0.00017750744316284229,
          0.00017577487311104924,
          0.00017406694213673336,
          0.0001723834016763659,
          0.00017072399678432423,
          0.00016908846654593997,
          0.00016747654449904536,
          0.00016588795906169796,
          0.0001643224339638161,
          0.00016277968868051785,
          0.00016125943886514938,
          0.00015976139677999703,
          0.00015828527172287806,
          0.00015683077044790136,
          0.00015539759757881563,
          0.00015398545601351616,
          0.00015259404731840054,
          0.00015122307211142962,
          0.00014987223043285496,
          0.0001485412221027169,
          0.0001472297470643842,
          0.00014593750571346653,
          0.00014466419921163346,
          0.00014340952978491886,
          0.0001421732010062516,
          0.0001409549180620401,
          0.0001397543880027222,
          0.0001385713199773151,
          0.00013740542545205575,
          0.00013625641841329952,
          0.00013512401555494189,
          0.00013400793645065043,
          0.000132907903711268,
          0.0001318236431278168,
          0.00013075488380051337,
          0.0001297013582542983
         ]
        }
       ],
       "layout": {
        "showlegend": true,
        "template": {
         "data": {
          "bar": [
           {
            "error_x": {
             "color": "#2a3f5f"
            },
            "error_y": {
             "color": "#2a3f5f"
            },
            "marker": {
             "line": {
              "color": "#E5ECF6",
              "width": 0.5
             },
             "pattern": {
              "fillmode": "overlay",
              "size": 10,
              "solidity": 0.2
             }
            },
            "type": "bar"
           }
          ],
          "barpolar": [
           {
            "marker": {
             "line": {
              "color": "#E5ECF6",
              "width": 0.5
             },
             "pattern": {
              "fillmode": "overlay",
              "size": 10,
              "solidity": 0.2
             }
            },
            "type": "barpolar"
           }
          ],
          "carpet": [
           {
            "aaxis": {
             "endlinecolor": "#2a3f5f",
             "gridcolor": "white",
             "linecolor": "white",
             "minorgridcolor": "white",
             "startlinecolor": "#2a3f5f"
            },
            "baxis": {
             "endlinecolor": "#2a3f5f",
             "gridcolor": "white",
             "linecolor": "white",
             "minorgridcolor": "white",
             "startlinecolor": "#2a3f5f"
            },
            "type": "carpet"
           }
          ],
          "choropleth": [
           {
            "colorbar": {
             "outlinewidth": 0,
             "ticks": ""
            },
            "type": "choropleth"
           }
          ],
          "contour": [
           {
            "colorbar": {
             "outlinewidth": 0,
             "ticks": ""
            },
            "colorscale": [
             [
              0,
              "#0d0887"
             ],
             [
              0.1111111111111111,
              "#46039f"
             ],
             [
              0.2222222222222222,
              "#7201a8"
             ],
             [
              0.3333333333333333,
              "#9c179e"
             ],
             [
              0.4444444444444444,
              "#bd3786"
             ],
             [
              0.5555555555555556,
              "#d8576b"
             ],
             [
              0.6666666666666666,
              "#ed7953"
             ],
             [
              0.7777777777777778,
              "#fb9f3a"
             ],
             [
              0.8888888888888888,
              "#fdca26"
             ],
             [
              1,
              "#f0f921"
             ]
            ],
            "type": "contour"
           }
          ],
          "contourcarpet": [
           {
            "colorbar": {
             "outlinewidth": 0,
             "ticks": ""
            },
            "type": "contourcarpet"
           }
          ],
          "heatmap": [
           {
            "colorbar": {
             "outlinewidth": 0,
             "ticks": ""
            },
            "colorscale": [
             [
              0,
              "#0d0887"
             ],
             [
              0.1111111111111111,
              "#46039f"
             ],
             [
              0.2222222222222222,
              "#7201a8"
             ],
             [
              0.3333333333333333,
              "#9c179e"
             ],
             [
              0.4444444444444444,
              "#bd3786"
             ],
             [
              0.5555555555555556,
              "#d8576b"
             ],
             [
              0.6666666666666666,
              "#ed7953"
             ],
             [
              0.7777777777777778,
              "#fb9f3a"
             ],
             [
              0.8888888888888888,
              "#fdca26"
             ],
             [
              1,
              "#f0f921"
             ]
            ],
            "type": "heatmap"
           }
          ],
          "heatmapgl": [
           {
            "colorbar": {
             "outlinewidth": 0,
             "ticks": ""
            },
            "colorscale": [
             [
              0,
              "#0d0887"
             ],
             [
              0.1111111111111111,
              "#46039f"
             ],
             [
              0.2222222222222222,
              "#7201a8"
             ],
             [
              0.3333333333333333,
              "#9c179e"
             ],
             [
              0.4444444444444444,
              "#bd3786"
             ],
             [
              0.5555555555555556,
              "#d8576b"
             ],
             [
              0.6666666666666666,
              "#ed7953"
             ],
             [
              0.7777777777777778,
              "#fb9f3a"
             ],
             [
              0.8888888888888888,
              "#fdca26"
             ],
             [
              1,
              "#f0f921"
             ]
            ],
            "type": "heatmapgl"
           }
          ],
          "histogram": [
           {
            "marker": {
             "pattern": {
              "fillmode": "overlay",
              "size": 10,
              "solidity": 0.2
             }
            },
            "type": "histogram"
           }
          ],
          "histogram2d": [
           {
            "colorbar": {
             "outlinewidth": 0,
             "ticks": ""
            },
            "colorscale": [
             [
              0,
              "#0d0887"
             ],
             [
              0.1111111111111111,
              "#46039f"
             ],
             [
              0.2222222222222222,
              "#7201a8"
             ],
             [
              0.3333333333333333,
              "#9c179e"
             ],
             [
              0.4444444444444444,
              "#bd3786"
             ],
             [
              0.5555555555555556,
              "#d8576b"
             ],
             [
              0.6666666666666666,
              "#ed7953"
             ],
             [
              0.7777777777777778,
              "#fb9f3a"
             ],
             [
              0.8888888888888888,
              "#fdca26"
             ],
             [
              1,
              "#f0f921"
             ]
            ],
            "type": "histogram2d"
           }
          ],
          "histogram2dcontour": [
           {
            "colorbar": {
             "outlinewidth": 0,
             "ticks": ""
            },
            "colorscale": [
             [
              0,
              "#0d0887"
             ],
             [
              0.1111111111111111,
              "#46039f"
             ],
             [
              0.2222222222222222,
              "#7201a8"
             ],
             [
              0.3333333333333333,
              "#9c179e"
             ],
             [
              0.4444444444444444,
              "#bd3786"
             ],
             [
              0.5555555555555556,
              "#d8576b"
             ],
             [
              0.6666666666666666,
              "#ed7953"
             ],
             [
              0.7777777777777778,
              "#fb9f3a"
             ],
             [
              0.8888888888888888,
              "#fdca26"
             ],
             [
              1,
              "#f0f921"
             ]
            ],
            "type": "histogram2dcontour"
           }
          ],
          "mesh3d": [
           {
            "colorbar": {
             "outlinewidth": 0,
             "ticks": ""
            },
            "type": "mesh3d"
           }
          ],
          "parcoords": [
           {
            "line": {
             "colorbar": {
              "outlinewidth": 0,
              "ticks": ""
             }
            },
            "type": "parcoords"
           }
          ],
          "pie": [
           {
            "automargin": true,
            "type": "pie"
           }
          ],
          "scatter": [
           {
            "fillpattern": {
             "fillmode": "overlay",
             "size": 10,
             "solidity": 0.2
            },
            "type": "scatter"
           }
          ],
          "scatter3d": [
           {
            "line": {
             "colorbar": {
              "outlinewidth": 0,
              "ticks": ""
             }
            },
            "marker": {
             "colorbar": {
              "outlinewidth": 0,
              "ticks": ""
             }
            },
            "type": "scatter3d"
           }
          ],
          "scattercarpet": [
           {
            "marker": {
             "colorbar": {
              "outlinewidth": 0,
              "ticks": ""
             }
            },
            "type": "scattercarpet"
           }
          ],
          "scattergeo": [
           {
            "marker": {
             "colorbar": {
              "outlinewidth": 0,
              "ticks": ""
             }
            },
            "type": "scattergeo"
           }
          ],
          "scattergl": [
           {
            "marker": {
             "colorbar": {
              "outlinewidth": 0,
              "ticks": ""
             }
            },
            "type": "scattergl"
           }
          ],
          "scattermapbox": [
           {
            "marker": {
             "colorbar": {
              "outlinewidth": 0,
              "ticks": ""
             }
            },
            "type": "scattermapbox"
           }
          ],
          "scatterpolar": [
           {
            "marker": {
             "colorbar": {
              "outlinewidth": 0,
              "ticks": ""
             }
            },
            "type": "scatterpolar"
           }
          ],
          "scatterpolargl": [
           {
            "marker": {
             "colorbar": {
              "outlinewidth": 0,
              "ticks": ""
             }
            },
            "type": "scatterpolargl"
           }
          ],
          "scatterternary": [
           {
            "marker": {
             "colorbar": {
              "outlinewidth": 0,
              "ticks": ""
             }
            },
            "type": "scatterternary"
           }
          ],
          "surface": [
           {
            "colorbar": {
             "outlinewidth": 0,
             "ticks": ""
            },
            "colorscale": [
             [
              0,
              "#0d0887"
             ],
             [
              0.1111111111111111,
              "#46039f"
             ],
             [
              0.2222222222222222,
              "#7201a8"
             ],
             [
              0.3333333333333333,
              "#9c179e"
             ],
             [
              0.4444444444444444,
              "#bd3786"
             ],
             [
              0.5555555555555556,
              "#d8576b"
             ],
             [
              0.6666666666666666,
              "#ed7953"
             ],
             [
              0.7777777777777778,
              "#fb9f3a"
             ],
             [
              0.8888888888888888,
              "#fdca26"
             ],
             [
              1,
              "#f0f921"
             ]
            ],
            "type": "surface"
           }
          ],
          "table": [
           {
            "cells": {
             "fill": {
              "color": "#EBF0F8"
             },
             "line": {
              "color": "white"
             }
            },
            "header": {
             "fill": {
              "color": "#C8D4E3"
             },
             "line": {
              "color": "white"
             }
            },
            "type": "table"
           }
          ]
         },
         "layout": {
          "annotationdefaults": {
           "arrowcolor": "#2a3f5f",
           "arrowhead": 0,
           "arrowwidth": 1
          },
          "autotypenumbers": "strict",
          "coloraxis": {
           "colorbar": {
            "outlinewidth": 0,
            "ticks": ""
           }
          },
          "colorscale": {
           "diverging": [
            [
             0,
             "#8e0152"
            ],
            [
             0.1,
             "#c51b7d"
            ],
            [
             0.2,
             "#de77ae"
            ],
            [
             0.3,
             "#f1b6da"
            ],
            [
             0.4,
             "#fde0ef"
            ],
            [
             0.5,
             "#f7f7f7"
            ],
            [
             0.6,
             "#e6f5d0"
            ],
            [
             0.7,
             "#b8e186"
            ],
            [
             0.8,
             "#7fbc41"
            ],
            [
             0.9,
             "#4d9221"
            ],
            [
             1,
             "#276419"
            ]
           ],
           "sequential": [
            [
             0,
             "#0d0887"
            ],
            [
             0.1111111111111111,
             "#46039f"
            ],
            [
             0.2222222222222222,
             "#7201a8"
            ],
            [
             0.3333333333333333,
             "#9c179e"
            ],
            [
             0.4444444444444444,
             "#bd3786"
            ],
            [
             0.5555555555555556,
             "#d8576b"
            ],
            [
             0.6666666666666666,
             "#ed7953"
            ],
            [
             0.7777777777777778,
             "#fb9f3a"
            ],
            [
             0.8888888888888888,
             "#fdca26"
            ],
            [
             1,
             "#f0f921"
            ]
           ],
           "sequentialminus": [
            [
             0,
             "#0d0887"
            ],
            [
             0.1111111111111111,
             "#46039f"
            ],
            [
             0.2222222222222222,
             "#7201a8"
            ],
            [
             0.3333333333333333,
             "#9c179e"
            ],
            [
             0.4444444444444444,
             "#bd3786"
            ],
            [
             0.5555555555555556,
             "#d8576b"
            ],
            [
             0.6666666666666666,
             "#ed7953"
            ],
            [
             0.7777777777777778,
             "#fb9f3a"
            ],
            [
             0.8888888888888888,
             "#fdca26"
            ],
            [
             1,
             "#f0f921"
            ]
           ]
          },
          "colorway": [
           "#636efa",
           "#EF553B",
           "#00cc96",
           "#ab63fa",
           "#FFA15A",
           "#19d3f3",
           "#FF6692",
           "#B6E880",
           "#FF97FF",
           "#FECB52"
          ],
          "font": {
           "color": "#2a3f5f"
          },
          "geo": {
           "bgcolor": "white",
           "lakecolor": "white",
           "landcolor": "#E5ECF6",
           "showlakes": true,
           "showland": true,
           "subunitcolor": "white"
          },
          "hoverlabel": {
           "align": "left"
          },
          "hovermode": "closest",
          "mapbox": {
           "style": "light"
          },
          "paper_bgcolor": "white",
          "plot_bgcolor": "#E5ECF6",
          "polar": {
           "angularaxis": {
            "gridcolor": "white",
            "linecolor": "white",
            "ticks": ""
           },
           "bgcolor": "#E5ECF6",
           "radialaxis": {
            "gridcolor": "white",
            "linecolor": "white",
            "ticks": ""
           }
          },
          "scene": {
           "xaxis": {
            "backgroundcolor": "#E5ECF6",
            "gridcolor": "white",
            "gridwidth": 2,
            "linecolor": "white",
            "showbackground": true,
            "ticks": "",
            "zerolinecolor": "white"
           },
           "yaxis": {
            "backgroundcolor": "#E5ECF6",
            "gridcolor": "white",
            "gridwidth": 2,
            "linecolor": "white",
            "showbackground": true,
            "ticks": "",
            "zerolinecolor": "white"
           },
           "zaxis": {
            "backgroundcolor": "#E5ECF6",
            "gridcolor": "white",
            "gridwidth": 2,
            "linecolor": "white",
            "showbackground": true,
            "ticks": "",
            "zerolinecolor": "white"
           }
          },
          "shapedefaults": {
           "line": {
            "color": "#2a3f5f"
           }
          },
          "ternary": {
           "aaxis": {
            "gridcolor": "white",
            "linecolor": "white",
            "ticks": ""
           },
           "baxis": {
            "gridcolor": "white",
            "linecolor": "white",
            "ticks": ""
           },
           "bgcolor": "#E5ECF6",
           "caxis": {
            "gridcolor": "white",
            "linecolor": "white",
            "ticks": ""
           }
          },
          "title": {
           "x": 0.05
          },
          "xaxis": {
           "automargin": true,
           "gridcolor": "white",
           "linecolor": "white",
           "ticks": "",
           "title": {
            "standoff": 15
           },
           "zerolinecolor": "white",
           "zerolinewidth": 2
          },
          "yaxis": {
           "automargin": true,
           "gridcolor": "white",
           "linecolor": "white",
           "ticks": "",
           "title": {
            "standoff": 15
           },
           "zerolinecolor": "white",
           "zerolinewidth": 2
          }
         }
        },
        "title": {
         "text": "Plot of Error"
        },
        "xaxis": {
         "title": {
          "text": "Index"
         }
        },
        "yaxis": {
         "title": {
          "text": "Error Value"
         },
         "type": "log"
        }
       }
      }
     },
     "metadata": {},
     "output_type": "display_data"
    }
   ],
   "source": [
    "import numpy as np\n",
    "import plotly.graph_objects as go\n",
    "\n",
    "# Assuming steps and e are defined\n",
    "\n",
    "# Plot for steps\n",
    "fig1 = go.Figure()\n",
    "fig1.add_trace(go.Scatter(x=list(range(0, len(steps))), y=steps, mode='lines', name='Steps'))\n",
    "\n",
    "fig1.update_layout(title='Plot of Steps',\n",
    "                   xaxis_title='Index',\n",
    "                   yaxis_title='Steps Value',\n",
    "                   showlegend=True)\n",
    "fig1.show()\n",
    "\n",
    "# Plot for error e\n",
    "fig2 = go.Figure()\n",
    "fig2.add_trace(go.Scatter(x=list(range(0, len(e))), y=e, mode='lines', name='Error'))\n",
    "fig2.update_layout(title='Plot of Error',\n",
    "                   xaxis_title='Index',\n",
    "                   yaxis_title='Error Value',\n",
    "                   yaxis=dict(type='log'),  # Set y-axis to logarithmic scale\n",
    "                   showlegend=True)\n",
    "fig2.show()\n"
   ]
  },
  {
   "cell_type": "code",
   "execution_count": 760,
   "metadata": {},
   "outputs": [
    {
     "name": "stdout",
     "output_type": "stream",
     "text": [
      "Saved e to data_e.mat\n"
     ]
    }
   ],
   "source": [
    "import numpy as np\n",
    "from scipy.io import savemat\n",
    "\n",
    "# Save e to a .mat file\n",
    "savemat('advanced_e_sp100.mat', {'e': e})\n",
    "print(\"Saved e to data_e.mat\")\n",
    "\n",
    "# Save e to a .mat file\n",
    "savemat('advanced_variances_sp100.mat', {'e': variances })"
   ]
  },
  {
   "cell_type": "code",
   "execution_count": 761,
   "metadata": {},
   "outputs": [
    {
     "name": "stdout",
     "output_type": "stream",
     "text": [
      "[0.01010101 0.01010101 0.01010101 0.01010101 0.01010101 0.01010101\n",
      " 0.01010101 0.01010101 0.01010101 0.01010101 0.01010101 0.01010101\n",
      " 0.01010101 0.01010101 0.01010101 0.01010101 0.01010101 0.01010101\n",
      " 0.01010101 0.01010101 0.01010101 0.01010101 0.01010101 0.01010101\n",
      " 0.01010101 0.01010101 0.01010101 0.01010101 0.01010101 0.01010101\n",
      " 0.01010101 0.01010101 0.01010101 0.01010101 0.01010101 0.01010101\n",
      " 0.01010101 0.01010101 0.01010101 0.01010101 0.01010101 0.01010101\n",
      " 0.01010101 0.01010101 0.01010101 0.01010101 0.01010101 0.01010101\n",
      " 0.01010101 0.01010101 0.01010101 0.01010101 0.01010101 0.01010101\n",
      " 0.01010101 0.01010101 0.01010101 0.01010101 0.01010101 0.01010101\n",
      " 0.01010101 0.01010101 0.01010101 0.01010101 0.01010101 0.01010101\n",
      " 0.01010101 0.01010101 0.01010101 0.01010101 0.01010101 0.01010101\n",
      " 0.01010101 0.01010101 0.01010101 0.01010101 0.01010101 0.01010101\n",
      " 0.01010101 0.01010101 0.01010101 0.01010101 0.01010101 0.01010101\n",
      " 0.01010101 0.01010101 0.01010101 0.01010101 0.01010101 0.01010101\n",
      " 0.01010101 0.01010101 0.01010101 0.01010101 0.01010101 0.01010101\n",
      " 0.01010101 0.01010101]\n",
      "0.9898989898989897\n",
      "(98,)\n",
      "(98, 30)\n",
      "(98,)\n"
     ]
    },
    {
     "data": {
      "text/plain": [
       "[<matplotlib.lines.Line2D at 0x15548f7a150>]"
      ]
     },
     "execution_count": 761,
     "metadata": {},
     "output_type": "execute_result"
    },
    {
     "data": {
      "image/png": "[encoded data removed]",
      "text/plain": [
       "<Figure size 640x480 with 1 Axes>"
      ]
     },
     "metadata": {},
     "output_type": "display_data"
    }
   ],
   "source": [
    "Wcn = w[1:len(w)]\n",
    "print(Wcn)\n",
    "print(np.sum(Wcn))\n",
    "print(Wcn.shape)\n",
    "print(HSI_test.shape)\n",
    "print(Wcn.shape)\n",
    "\n",
    "XWcn = HSI_test.T @ Wcn\n",
    "plt.plot(XWcn)"
   ]
  },
  {
   "cell_type": "code",
   "execution_count": 762,
   "metadata": {},
   "outputs": [
    {
     "name": "stdout",
     "output_type": "stream",
     "text": [
      "0.9907324481981229\n",
      "2.689300360357597e-05\n"
     ]
    }
   ],
   "source": [
    "mean = np.mean(XWcn)\n",
    "print(mean)\n",
    "var = np.sum(np.square(XWcn - mean))/31\n",
    "print(var)"
   ]
  }
 ],
 "metadata": {
  "kernelspec": {
   "display_name": "Python 3",
   "language": "python",
   "name": "python3"
  },
  "language_info": {
   "codemirror_mode": {
    "name": "ipython",
    "version": 3
   },
   "file_extension": ".py",
   "mimetype": "text/x-python",
   "name": "python",
   "nbconvert_exporter": "python",
   "pygments_lexer": "ipython3",
   "version": "3.11.5"
  }
 },
 "nbformat": 4,
 "nbformat_minor": 2
}
